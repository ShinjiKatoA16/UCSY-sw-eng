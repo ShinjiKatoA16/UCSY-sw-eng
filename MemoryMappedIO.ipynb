{
 "cells": [
  {
   "cell_type": "markdown",
   "metadata": {},
   "source": [
    "# I/O (Input Output)\n",
    "\n",
    "In order to control peripheral devices from software, software needs to access I/O area.\n",
    "As for accessing I/O area, CPU use either **memmory mapped I/O** and **port mapped I/O**.\n",
    "\n",
    "| Memory Mapped I/O | Port Mapped I/O |\n",
    "|:-----|:-----|\n",
    "| Memory and Device share same address bus | Different address space |\n",
    "| Memory Read/Write to access device | Special instruction to access device(IN/OUT) |\n",
    "| Most widely used I/O method | was popular x86 old system |\n",
    "\n",
    "\n",
    "![memory map](memorymapio.jpg)\n",
    "\n",
    "\n",
    "## source code of RPi.GPIO (c_gpio.c)\n",
    "\n",
    "Sample of memory mapped I/O.\n",
    "\n",
    "```\n",
    "void output_gpio(int gpio, int value)\n",
    "{\n",
    "    int offset, shift;\n",
    "\n",
    "    if (value) // value == HIGH\n",
    "        offset = SET_OFFSET + (gpio/32);\n",
    "    else       // value == LOW\n",
    "       offset = CLR_OFFSET + (gpio/32);\n",
    "\n",
    "    shift = (gpio%32);\n",
    "\n",
    "    *(gpio_map+offset) = 1 << shift;\n",
    "}\n",
    "\n",
    "int input_gpio(int gpio)\n",
    "{\n",
    "   int offset, value, mask;\n",
    "\n",
    "   offset = PINLEVEL_OFFSET + (gpio/32);\n",
    "   mask = (1 << gpio%32);\n",
    "   value = *(gpio_map+offset) & mask;\n",
    "   return value;\n",
    "}\n",
    "\n",
    "```"
   ]
  }
 ],
 "metadata": {
  "kernelspec": {
   "display_name": "Python 3",
   "language": "python",
   "name": "python3"
  },
  "language_info": {
   "codemirror_mode": {
    "name": "ipython",
    "version": 3
   },
   "file_extension": ".py",
   "mimetype": "text/x-python",
   "name": "python",
   "nbconvert_exporter": "python",
   "pygments_lexer": "ipython3",
   "version": "3.6.4"
  }
 },
 "nbformat": 4,
 "nbformat_minor": 2
}
