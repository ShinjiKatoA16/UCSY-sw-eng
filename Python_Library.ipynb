{
 "cells": [
  {
   "cell_type": "markdown",
   "metadata": {},
   "source": [
    "# Library\n",
    "\n",
    "External library can be imported using `import` command. There are several method to import external library"
   ]
  },
  {
   "cell_type": "code",
   "execution_count": 1,
   "metadata": {},
   "outputs": [
    {
     "name": "stdout",
     "output_type": "stream",
     "text": [
      "3.141592653589793\n"
     ]
    }
   ],
   "source": [
    "# Method 1\n",
    "\n",
    "import math\n",
    "\n",
    "# In this case library name shall be attached before function/variable name in the library\n",
    "print(math.pi)"
   ]
  },
  {
   "cell_type": "code",
   "execution_count": 2,
   "metadata": {},
   "outputs": [
    {
     "name": "stdout",
     "output_type": "stream",
     "text": [
      "3.141592653589793\n"
     ]
    }
   ],
   "source": [
    "# Method 2\n",
    "\n",
    "import math as mt\n",
    "\n",
    "# it's possible to use nick-name for name space of library\n",
    "print(mt.pi)"
   ]
  },
  {
   "cell_type": "code",
   "execution_count": 3,
   "metadata": {},
   "outputs": [
    {
     "name": "stdout",
     "output_type": "stream",
     "text": [
      "3.141592653589793\n",
      "0.8660254037844387 0.49999999999999994\n"
     ]
    }
   ],
   "source": [
    "# Method 3\n",
    "\n",
    "from math import pi, cos, sin\n",
    "\n",
    "# only import specific function/variable\n",
    "print(pi)\n",
    "print(cos(pi/6), sin(pi/6))  # 30 deg"
   ]
  },
  {
   "cell_type": "code",
   "execution_count": 4,
   "metadata": {},
   "outputs": [
    {
     "name": "stdout",
     "output_type": "stream",
     "text": [
      "3.141592653589793\n",
      "0.7071067811865476 0.7071067811865475\n"
     ]
    }
   ],
   "source": [
    "# Method 4\n",
    "\n",
    "from math import *\n",
    "\n",
    "# import every variable/function and merge name space\n",
    "# !!! Not recommended !!!\n",
    "\n",
    "print(pi)\n",
    "print(cos(pi/4), sin(pi/4))"
   ]
  },
  {
   "cell_type": "code",
   "execution_count": null,
   "metadata": {},
   "outputs": [],
   "source": []
  }
 ],
 "metadata": {
  "kernelspec": {
   "display_name": "Python 3",
   "language": "python",
   "name": "python3"
  },
  "language_info": {
   "codemirror_mode": {
    "name": "ipython",
    "version": 3
   },
   "file_extension": ".py",
   "mimetype": "text/x-python",
   "name": "python",
   "nbconvert_exporter": "python",
   "pygments_lexer": "ipython3",
   "version": "3.6.5"
  }
 },
 "nbformat": 4,
 "nbformat_minor": 2
}
