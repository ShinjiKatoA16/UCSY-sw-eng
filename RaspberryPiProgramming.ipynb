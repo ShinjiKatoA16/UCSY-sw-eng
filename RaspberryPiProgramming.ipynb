{
 "cells": [
  {
   "cell_type": "markdown",
   "metadata": {},
   "source": [
    "# Raspberry Pi Programming\n",
    "\n",
    "## GPIO digital output\n",
    "\n",
    "Following example sets PIN18 to High(3.3V).\n",
    "\n",
    "- Python's **import** statement includes external library\n",
    "- GPIO.setmode function defines which numbering method (pysical, GPIO number) is to be used.\n",
    "- GPIO.setup function defines the usage of GPIO pins (Input or Output)\n",
    "- GPIO.output function sets the GPIO pin value to be 1(3.3V) or 0(0V)"
   ]
  },
  {
   "cell_type": "code",
   "execution_count": null,
   "metadata": {
    "collapsed": true
   },
   "outputs": [],
   "source": [
    "import RPi.GPIO as GPIO\n",
    "GPIO.setmode(GPIO.BCM)  # use GPIO numbering, see output of gpio command\n",
    "#GPIO.setmode(GPIO.BOARD) # use Physical pin numbering\n",
    "GPIO.setup(18, GPIO.OUT) # PIN18 (Physical:Pin12) : Output\n",
    "GPIO.output(18, GPIO.HIGH) # Ping18 -> High (3.3V)"
   ]
  },
  {
   "cell_type": "markdown",
   "metadata": {},
   "source": [
    "## GPIO Digital input - 1\n",
    "\n",
    "Following example read the value of PIN18\n",
    "\n",
    "- GPIO.input function returns the value of GPIO pin. 3.3V or 0V"
   ]
  },
  {
   "cell_type": "code",
   "execution_count": null,
   "metadata": {
    "collapsed": true
   },
   "outputs": [],
   "source": [
    "import RPi.GPIO as GPIO\n",
    "GPIO.setmode(GPIO.BCM)  # use GPIO numbering, see output of gpio command\n",
    "GPIO.setup(18, GPIO.IN) # PIN18: Input\n",
    "if GPIO.input(18) == GPIO.HIGH:\n",
    "    print('PIN18: HIGH')\n",
    "else:\n",
    "    print('PIN18: LOW')"
   ]
  },
  {
   "cell_type": "markdown",
   "metadata": {},
   "source": [
    "## GPIO Digital input - 2  (Pull Down)\n",
    "\n",
    "Raspberry Pi has internal Pull Up/Down register, which can be enabled with setup() function.\n",
    "\n",
    "- Pull down register is enabled with GPIO.setup() function"
   ]
  },
  {
   "cell_type": "code",
   "execution_count": null,
   "metadata": {
    "collapsed": true
   },
   "outputs": [],
   "source": [
    "import RPi.GPIO as GPIO\n",
    "GPIO.setmode(GPIO.BCM)  # use GPIO numbering, see output of gpio command\n",
    "GPIO.setup(18, GPIO.IN, pull_up_down=GPIO_PUP_DOWN) # PIN18: Input (Pull Down enabled)\n",
    "if GPIO.input(18) == GPIO.HIGH:\n",
    "    print('PIN18: HIGH')\n",
    "else:\n",
    "    print('PIN18: LOW')"
   ]
  },
  {
   "cell_type": "markdown",
   "metadata": {},
   "source": [
    "## Analog data input\n",
    "\n",
    "Raspberry Pi does not have ADC(A/D converter) internally (Arduino has ADC). In order to handle analog data, external ADC is required."
   ]
  },
  {
   "cell_type": "markdown",
   "metadata": {},
   "source": [
    "## PWM (Pulse Width Modulation)\n",
    "\n",
    "PWM is a common method used to apply a proportional control signal to an external device using a digital output pin. For example, servo motors use the pulse width of an incoming PWM signal to determine their rotation angle. LCD displays adjust their brightness based on a PWM signal's average value.\n",
    "\n",
    "Raspberry Pi has 2 hardware PWM, Arduino UNO has 6 hardware PWM."
   ]
  },
  {
   "cell_type": "markdown",
   "metadata": {},
   "source": [
    "# SPI and I2C\n",
    "\n",
    "Raspberry Pi support SPI(Serial Peripheral Interface) and I2C(Inter Integrated Circuit), these interface can be used to external peripheral such as ADC, or Arduino."
   ]
  },
  {
   "cell_type": "markdown",
   "metadata": {},
   "source": [
    "## Serial (UART) communication over USB\n",
    "\n",
    "In order to connect 1 Raspberry Pi and 1 Arduino, UART over USB is a easiest method."
   ]
  }
 ],
 "metadata": {
  "kernelspec": {
   "display_name": "Python 3",
   "language": "python",
   "name": "python3"
  },
  "language_info": {
   "codemirror_mode": {
    "name": "ipython",
    "version": 3
   },
   "file_extension": ".py",
   "mimetype": "text/x-python",
   "name": "python",
   "nbconvert_exporter": "python",
   "pygments_lexer": "ipython3",
   "version": "3.6.4"
  }
 },
 "nbformat": 4,
 "nbformat_minor": 2
}
