{
 "cells": [
  {
   "cell_type": "markdown",
   "metadata": {},
   "source": [
    "# sympy\n",
    "\n",
    "*sympy* library can be used to handle mathematical formula. **mathemathica** and **matlab** are the famous language in this genre, but they are not open source and expensive software.\n",
    "\n",
    "The advantage of sympy is that\n",
    "\n",
    "- calculate algebra\n",
    "- copy the formula in *latex* format, which can be paste in thesis or technical paper\n",
    "- (and many more)"
   ]
  },
  {
   "cell_type": "markdown",
   "metadata": {},
   "source": [
    "### fraction (Rational)\n",
    "\n",
    "*sympy* supports fraction(Function name is *Rational*) such as 1/3."
   ]
  },
  {
   "cell_type": "code",
   "execution_count": 13,
   "metadata": {},
   "outputs": [
    {
     "name": "stdout",
     "output_type": "stream",
     "text": [
      "1/3 1/2 5/6\n",
      "1 5\n"
     ]
    }
   ],
   "source": [
    "import sympy as smp\n",
    "\n",
    "x = smp.Rational(1,3)\n",
    "y = smp.Rational(1,2)\n",
    "\n",
    "print(x, y, x+y)\n",
    "print(x*3, (x+y)*6)"
   ]
  },
  {
   "cell_type": "markdown",
   "metadata": {},
   "source": [
    "### Irrational Number\n",
    "\n",
    "*sympy* support irrational number such as $\\sqrt{2}, \\pi,  e$"
   ]
  },
  {
   "cell_type": "code",
   "execution_count": 14,
   "metadata": {},
   "outputs": [
    {
     "name": "stdout",
     "output_type": "stream",
     "text": [
      "Root 2: 1.414213562373095048801688724209698078569671875376948073176679737990732478462107038850387534327641573\n",
      "Pi:     3.141592653589793238462643383279502884197169399375105820974944592307816406286208998628034825342117068\n",
      "e:      2.718281828459045235360287471352662497757247093699959574966967627724076630353547594571382178525166427\n"
     ]
    }
   ],
   "source": [
    "root2 = smp.sqrt(2)\n",
    "print('Root 2:', root2.evalf(100))\n",
    "print('Pi:    ', smp.pi.evalf(100))\n",
    "print('e:     ', smp.E.evalf(100))"
   ]
  },
  {
   "cell_type": "markdown",
   "metadata": {},
   "source": [
    "### algebra\n",
    "\n",
    "*sympy* is powerful when solving algebra."
   ]
  },
  {
   "cell_type": "code",
   "execution_count": 15,
   "metadata": {},
   "outputs": [
    {
     "name": "stdout",
     "output_type": "stream",
     "text": [
      "Factor (x - 1)**2\n",
      "Solve [1]\n"
     ]
    }
   ],
   "source": [
    "x = smp.Symbol('x')  # Define 1 symbol\n",
    "y, z = smp.symbols('y z')  # Define 2 or more symbols\n",
    "\n",
    "f = x**2 - 2*x + 1\n",
    "print('Factor', smp.factor(f))\n",
    "print('Solve', smp.solve(f, x))"
   ]
  },
  {
   "cell_type": "code",
   "execution_count": 16,
   "metadata": {},
   "outputs": [
    {
     "data": {
      "text/plain": [
       "[{x: 2, y: 5}, {x: 5, y: 2}]"
      ]
     },
     "execution_count": 16,
     "metadata": {},
     "output_type": "execute_result"
    }
   ],
   "source": [
    "f = x + y -7     # x+y = 7\n",
    "g = x * y -10    # x*y = 10\n",
    "smp.solve([f,g])"
   ]
  },
  {
   "cell_type": "code",
   "execution_count": 17,
   "metadata": {},
   "outputs": [
    {
     "name": "stdout",
     "output_type": "stream",
     "text": [
      "(x - 1)*(x**6 + x**5 + x**4 + x**3 + x**2 + x + 1)\n",
      "[1, -cos(pi/7) - I*sin(pi/7), -cos(pi/7) + I*sin(pi/7), cos(2*pi/7) - I*sin(2*pi/7), cos(2*pi/7) + I*sin(2*pi/7), -cos(3*pi/7) - I*sin(3*pi/7), -cos(3*pi/7) + I*sin(3*pi/7)]\n"
     ]
    }
   ],
   "source": [
    "from sympy import symbols, solve, factor\n",
    "\n",
    "f = x**7 - 1\n",
    "print(factor(f))\n",
    "print(solve(f))"
   ]
  },
  {
   "cell_type": "markdown",
   "metadata": {},
   "source": [
    "### Prime factorization\n",
    "\n",
    "factorint() function of *sympy* performs prime factorization(decomposition)."
   ]
  },
  {
   "cell_type": "code",
   "execution_count": 18,
   "metadata": {},
   "outputs": [
    {
     "name": "stdout",
     "output_type": "stream",
     "text": [
      "{2017: 1}\n",
      "{2: 1, 1009: 1}\n",
      "{3: 1, 673: 1}\n"
     ]
    }
   ],
   "source": [
    "from sympy import factorint\n",
    "\n",
    "years = [2017,2018,2019]\n",
    "\n",
    "for y in years:\n",
    "    print(factorint(y))"
   ]
  },
  {
   "cell_type": "code",
   "execution_count": 19,
   "metadata": {},
   "outputs": [
    {
     "name": "stdout",
     "output_type": "stream",
     "text": [
      "Year: 1902 Prime {2: 1, 3: 1, 317: 1}\n",
      "Year: 1905 Prime {3: 1, 5: 1, 127: 1}\n",
      "Year: 1910 Prime {2: 1, 5: 1, 191: 1}\n",
      "Year: 1918 Prime {2: 1, 7: 1, 137: 1}\n",
      "Year: 1930 Prime {2: 1, 5: 1, 193: 1}\n",
      "Year: 1946 Prime {2: 1, 7: 1, 139: 1}\n",
      "Year: 1947 Prime {3: 1, 11: 1, 59: 1}\n",
      "Year: 1955 Prime {5: 1, 17: 1, 23: 1}\n",
      "Year: 1958 Prime {2: 1, 11: 1, 89: 1}\n",
      "Year: 1965 Prime {3: 1, 5: 1, 131: 1}\n",
      "Year: 1970 Prime {2: 1, 5: 1, 197: 1}\n",
      "Year: 1978 Prime {2: 1, 23: 1, 43: 1}\n",
      "Year: 1986 Prime {2: 1, 3: 1, 331: 1}\n",
      "Year: 1990 Prime {2: 1, 5: 1, 199: 1}\n",
      "Year: 2001 Prime {3: 1, 23: 1, 29: 1}\n",
      "Year: 2006 Prime {2: 1, 17: 1, 59: 1}\n",
      "Year: 2013 Prime {3: 1, 11: 1, 61: 1}\n",
      "Year: 2014 Prime {2: 1, 19: 1, 53: 1}\n",
      "Year: 2015 Prime {5: 1, 13: 1, 31: 1}\n"
     ]
    }
   ],
   "source": [
    "# print years that are product of 3 different prims\n",
    "\n",
    "for year in range(1900, 2019):\n",
    "    primes = factorint(year)\n",
    "    if sum(primes.values()) == 3 and len(primes) == 3:\n",
    "        print('Year:', year, 'Prime', primes)"
   ]
  },
  {
   "cell_type": "code",
   "execution_count": 20,
   "metadata": {},
   "outputs": [
    {
     "data": {
      "text/plain": [
       "{13: 1, 199: 1, 263: 1, 467: 1, 184567: 1, 67947437: 1, 309826661: 1}"
      ]
     },
     "execution_count": 20,
     "metadata": {},
     "output_type": "execute_result"
    }
   ],
   "source": [
    "factorint(1234567890123456789012345678913)"
   ]
  },
  {
   "cell_type": "code",
   "execution_count": null,
   "metadata": {},
   "outputs": [],
   "source": []
  }
 ],
 "metadata": {
  "kernelspec": {
   "display_name": "Python 3",
   "language": "python",
   "name": "python3"
  },
  "language_info": {
   "codemirror_mode": {
    "name": "ipython",
    "version": 3
   },
   "file_extension": ".py",
   "mimetype": "text/x-python",
   "name": "python",
   "nbconvert_exporter": "python",
   "pygments_lexer": "ipython3",
   "version": "3.6.5"
  }
 },
 "nbformat": 4,
 "nbformat_minor": 2
}
