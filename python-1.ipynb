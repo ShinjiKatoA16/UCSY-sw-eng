{
 "cells": [
  {
   "cell_type": "markdown",
   "metadata": {},
   "source": [
    "# Fundamentals of Python\n",
    "\n",
    "## Object and Variable\n",
    "\n",
    "Everything (inclulding function) is object in Python. Each object has type and optionally its own method.\n",
    "Variable is not declared in Python. Variable does not have type but refers **object**.\n",
    "\n",
    "## Clause (Block)\n",
    "\n",
    "The clause(block) of the python is grouped with indent. Same clause need to have same indent (number of spaces).\n",
    "**Tab** character can be used as a indent, but **not recommended**. PEP8 (guide line of python) defines 4 space as a recommended indent."
   ]
  },
  {
   "cell_type": "markdown",
   "metadata": {},
   "source": [
    "## Print function\n",
    "\n",
    "```print()``` function takes any type of object. Integer, String, Float, List etc. The return value of ```print()``` function is **None**."
   ]
  },
  {
   "cell_type": "code",
   "execution_count": null,
   "metadata": {},
   "outputs": [],
   "source": [
    "print(1)\n",
    "print('hello')\n",
    "x = [1,2,3]\n",
    "y = print(x)\n",
    "print('type of y:', type(y))"
   ]
  },
  {
   "cell_type": "markdown",
   "metadata": {},
   "source": [
    "## if statement\n",
    "\n",
    "Syntax of the **if** statement of python is similar to **C**, except that **elif** is used insted of **else if**. **elif** and **else** clause is optional and multiple **elif** clauses can be defined."
   ]
  },
  {
   "cell_type": "code",
   "execution_count": null,
   "metadata": {},
   "outputs": [],
   "source": [
    "x = int(input('Please enter integer: '))\n",
    "\n",
    "if x == 0:\n",
    "    print(\"It's Zero\")\n",
    "elif x == 1:\n",
    "    print(\"I know 1\")\n",
    "elif x == 2:\n",
    "    print(\"I know 2\")\n",
    "else:\n",
    "    print(\"I don't know such number:\", x)"
   ]
  },
  {
   "cell_type": "markdown",
   "metadata": {},
   "source": [
    "## while statement\n",
    "\n",
    "Syntax of the **while** statement of python is similar to **C**. python's **while** statement can optionally have a **else** clause, which is executed if **while** loop exited except **break**."
   ]
  },
  {
   "cell_type": "code",
   "execution_count": null,
   "metadata": {},
   "outputs": [],
   "source": [
    "n = 5\n",
    "\n",
    "while n > 0:\n",
    "    print(n)\n",
    "    n -= 1"
   ]
  },
  {
   "cell_type": "code",
   "execution_count": null,
   "metadata": {},
   "outputs": [],
   "source": [
    "p = int(input('Please input number: '))\n",
    "\n",
    "x = [2,3,5,7,11, None]\n",
    "i = 0\n",
    "\n",
    "while x[i] != None:\n",
    "    if x[i] == p:\n",
    "        print(p, 'is found')\n",
    "        break\n",
    "    i += 1\n",
    "else:  # while loop exited except break\n",
    "    print(p, 'not found')"
   ]
  },
  {
   "cell_type": "markdown",
   "metadata": {},
   "source": [
    "## for statement\n",
    "\n",
    "Syntex of the **for** statement is different from **C**. python's **for** statement takes **iterable** object. **List**, **Tuple** and **String** are iterable object.\n",
    "Some functions such as **range()** returns **iterable** object.  \n",
    "**for** statement also can have **else** clause, which is executed if **for** loop exited except **break**."
   ]
  },
  {
   "cell_type": "code",
   "execution_count": null,
   "metadata": {},
   "outputs": [],
   "source": [
    "list_a = [1,2,3, 'abc']\n",
    "tuple_a = (4, 'a', 1.23)  # List and Tuple can contain different type of objects as element\n",
    "string_a = 'this is a string_a'\n",
    "\n",
    "for x in list_a:\n",
    "    print(x)\n",
    "print()\n",
    "    \n",
    "for x in tuple_a:\n",
    "    print(x)\n",
    "print()\n",
    "    \n",
    "for x in string_a:\n",
    "    print(x)   # each print() prints 1 character(string with lengh:1)\n",
    "print()\n",
    "    \n",
    "for x in (1,2,3,4,5):\n",
    "    print(x)\n",
    "print()\n",
    "        \n",
    "for x in range(5):  # range(5) returns 0, 1, 2, 3, 4 one by one\n",
    "    print(x)"
   ]
  },
  {
   "cell_type": "code",
   "execution_count": null,
   "metadata": {},
   "outputs": [],
   "source": [
    "p = int(input('Please input number: '))\n",
    "\n",
    "for x in [2,3,5,7,11]:\n",
    "    if x == p:\n",
    "        print(p, 'is found')\n",
    "        break\n",
    "else:  # for loop exited except break\n",
    "    print(p, 'not found')"
   ]
  },
  {
   "cell_type": "markdown",
   "metadata": {},
   "source": [
    "## Hands on\n",
    "\n",
    "- Check the usage of range() function using help()\n",
    "- print 1 to 10 vertically"
   ]
  },
  {
   "cell_type": "code",
   "execution_count": null,
   "metadata": {},
   "outputs": [],
   "source": [
    "help(range)"
   ]
  },
  {
   "cell_type": "code",
   "execution_count": null,
   "metadata": {
    "collapsed": true
   },
   "outputs": [],
   "source": [
    "for i in range(??, ??):  ## change ?? to proper value\n",
    "    print(i)"
   ]
  },
  {
   "cell_type": "markdown",
   "metadata": {},
   "source": [
    "- Check the usage of print() function using help()\n",
    "- print 1 to 10 horizontally"
   ]
  },
  {
   "cell_type": "code",
   "execution_count": null,
   "metadata": {},
   "outputs": [],
   "source": [
    "help(print)"
   ]
  },
  {
   "cell_type": "code",
   "execution_count": null,
   "metadata": {
    "collapsed": true
   },
   "outputs": [],
   "source": [
    "# Change ??\n",
    "for i in range(??, ??):\n",
    "    print(i, ????)"
   ]
  },
  {
   "cell_type": "markdown",
   "metadata": {},
   "source": [
    "- print following tables\n",
    "\n",
    "```\n",
    "1x1= 1 2x1= 2 3x1= 3 4x1= 4 5x1= 5 6x1= 6 7x1= 7 8x1= 8 9x1= 9\n",
    "1x2= 2 2x2= 4 3x2= 6 4x2= 8 5x2=10 6x2=12 7x2=14 8x2=16 9x2=18\n",
    "1x3= 3 2x3= 6 3x3= 9 4x3=12 5x3=15 6x3=18 7x3=21 8x3=24 9x3=27\n",
    "1x4= 4 2x4= 8 3x4=12 4x4=16 5x4=20 6x4=24 7x4=28 8x4=32 9x4=36\n",
    "1x5= 5 2x5=10 3x5=15 4x5=20 5x5=25 6x5=30 7x5=35 8x5=40 9x5=45\n",
    "1x6= 6 2x6=12 3x6=18 4x6=24 5x6=30 6x6=36 7x6=42 8x6=48 9x6=54\n",
    "1x7= 7 2x7=14 3x7=21 4x7=28 5x7=35 6x7=42 7x7=49 8x7=56 9x7=63\n",
    "1x8= 8 2x8=16 3x8=24 4x8=32 5x8=40 6x8=48 7x8=56 8x8=64 9x8=72\n",
    "1x9= 9 2x9=18 3x9=27 4x9=36 5x9=45 6x9=54 7x9=63 8x9=72 9x9=81\n",
    "```"
   ]
  },
  {
   "cell_type": "code",
   "execution_count": null,
   "metadata": {
    "collapsed": true
   },
   "outputs": [],
   "source": [
    "for row in range(??, ??):\n",
    "    for col in range(??, ??):\n",
    "        print(????)\n",
    "    ????"
   ]
  }
 ],
 "metadata": {
  "kernelspec": {
   "display_name": "Python 3",
   "language": "python",
   "name": "python3"
  },
  "language_info": {
   "codemirror_mode": {
    "name": "ipython",
    "version": 3
   },
   "file_extension": ".py",
   "mimetype": "text/x-python",
   "name": "python",
   "nbconvert_exporter": "python",
   "pygments_lexer": "ipython3",
   "version": "3.6.2"
  }
 },
 "nbformat": 4,
 "nbformat_minor": 2
}
