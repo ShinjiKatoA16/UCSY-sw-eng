{
 "cells": [
  {
   "cell_type": "code",
   "execution_count": null,
   "metadata": {},
   "outputs": [],
   "source": [
    "%autosave 0"
   ]
  },
  {
   "cell_type": "markdown",
   "metadata": {},
   "source": [
    "# Binary Integer (2's complement)\n",
    "\n",
    "In most CPU, **2's complement** is used in order to represent **Signed Integer**.\n",
    "\n",
    "|4bit integer|Unsigned Value|Signed Value|\n",
    "|-----------|---|-----|\n",
    "|0b0000| 0 |0 |\n",
    "|0b0001| 1 |1 |\n",
    "|0b0010| 2 |2 |\n",
    "|0b0011| 3 |3 |\n",
    "|0b0100| 4 |4 |\n",
    "|0b0101| 5 |5 |\n",
    "|0b0110| 6 |6 |\n",
    "|0b0111| 7 |7 |\n",
    "|0b1000| 8 |-8 |\n",
    "|0b1001| 9 |-7 |\n",
    "|0b1010|10 |-6 |\n",
    "|0b1011|11 |-5 |\n",
    "|0b1100|12 |-4 |\n",
    "|0b1101|13 |-3 |\n",
    "|0b1110|14 |-2 |\n",
    "|0b1111|15 |-1 |\n",
    "\n",
    "|Value|4bit Unsign|4bit Signed|8bit Unsign|8bit Signed|16bit Signed|32bit Signed|64bit Signed|\n",
    "|-----|-----------|-----------|-----------|-----------|------------|------------|------------|\n",
    "| 0 |0b0000|0b0000|0b00000000|0b00000000|0x0000|0x00000000|0x0000000000000000|\n",
    "|-----|-----------|-----------|-----------|-----------|------------|------------|------------|\n",
    "|Min|0b0000|0b1000|0b00000000|0b10000000|0x8000|0x80000000|0x8000000000000000|\n",
    "|Min val| 0 |-8| 0 |-128|-32768|$-2^{31}$|$-2^{63}$|\n",
    "|-----|-----------|-----------|-----------|-----------|------------|------------|------------|\n",
    "|Max|0b1111|0b0111|0b11111111|0b01111111|0x7fff|0x7fffffff|0x7fffffffffffffff|\n",
    "|Max val|15|7|255|127|32767|$2^{31} -1$|$2^{63} -1$|\n",
    "|-----|-----------|-----------|-----------|-----------|------------|------------|------------|\n",
    "|-1|N/A|0b1111|N/A|0b11111111|0xffff|0xffffffff|0xffffffffffffffff|\n",
    "\n",
    "\n",
    "$2^{31}=2147483648 \\fallingdotseq 2 \\cdot 10^{9} \\\\\n",
    "2^{63}=9223372036854775808 \\fallingdotseq 9 \\cdot 10^{18}$\n"
   ]
  },
  {
   "cell_type": "code",
   "execution_count": null,
   "metadata": {
    "collapsed": true
   },
   "outputs": [],
   "source": [
    "# print 2**7, 2**15, 2**31, 2**63\n",
    "import math\n",
    "\n",
    "for exp in (7, 15, 31, 63):\n",
    "    val = 2 ** exp\n",
    "    log10 = round(math.log(val, 10), 2)\n",
    "    print ('2**', exp, '=', val, '-> 10**', log10)"
   ]
  },
  {
   "cell_type": "markdown",
   "metadata": {},
   "source": [
    "## Sign conversion\n",
    "\n",
    "Converting from positive integer to negative, or nagative integer to positive can be done by following steps.\n",
    "\n",
    "1. Reverse all bits of original integer (**1's complement**, for example 0b0101 -> 0b1010)\n",
    "1. add 1 (ignore overflow)"
   ]
  },
  {
   "cell_type": "markdown",
   "metadata": {},
   "source": [
    "### Sample of C source\n",
    "\n",
    "```\n",
    "#include <stdio.h>\n",
    "\n",
    "int main(void) {\n",
    "\tint orig_int[10] = {0, 1, 100, 99, 17, -1, -100, -23, -1000, -123} ;\n",
    "\tint i ;\n",
    "\n",
    "\tfor (i=0; i<10; i++) {\n",
    "\t\tint rev ;\n",
    "\t\trev = (~orig_int[i]) + 1 ;\n",
    "\t\tprintf(\"from: %d (%08x), to: %d (%08x)\\n\",\n",
    "\t\t\t orig_int[i], orig_int[i], rev, rev) ;\n",
    "\t}\n",
    "\n",
    "\treturn 0 ;\n",
    "}\n",
    "\n",
    "```\n",
    "\n",
    "Save above C source code as integer.c\n",
    "\n",
    "### Compile\n",
    "\n",
    "```\n",
    "$ gcc -o interger integer.c\n",
    "```\n",
    "\n",
    "or \n",
    "\n",
    "```\n",
    "$ make integer\n",
    "```\n",
    "\n",
    "### Execute\n",
    "\n",
    "```\n",
    "$ ./integer\n",
    "```"
   ]
  },
  {
   "cell_type": "markdown",
   "metadata": {},
   "source": [
    "# Endian(Byte Order), Big endian and Little endian\n",
    "\n",
    "In case of big endian, MSB(Most significant byte) is located at lowest address. In case of little endian, LSB(Least Significant Byte) is located at lowest address.\n",
    "This is determined by CPU's architecture. Intel CPU is Little endian, IBM Mainframe is Big endian.\n",
    "Following tables shows how 32bit integer(value=0x0a0b0c0d)is stored in memory address 0x1000.\n",
    "\n",
    "|Endian|0x1000|0x1001|0x1002|0x1003|\n",
    "|---|---|---|---|---|\n",
    "|Big|0x0a|0x0b|0x0c|0x0d|\n",
    "|Little|0x0d|0x0c|0x0b|0x0a|"
   ]
  }
 ],
 "metadata": {
  "kernelspec": {
   "display_name": "Python 3",
   "language": "python",
   "name": "python3"
  },
  "language_info": {
   "codemirror_mode": {
    "name": "ipython",
    "version": 3
   },
   "file_extension": ".py",
   "mimetype": "text/x-python",
   "name": "python",
   "nbconvert_exporter": "python",
   "pygments_lexer": "ipython3",
   "version": "3.6.2"
  }
 },
 "nbformat": 4,
 "nbformat_minor": 2
}
