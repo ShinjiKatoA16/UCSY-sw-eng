{
 "cells": [
  {
   "cell_type": "code",
   "execution_count": null,
   "metadata": {},
   "outputs": [],
   "source": [
    "%autosave 0"
   ]
  },
  {
   "cell_type": "markdown",
   "metadata": {},
   "source": [
    "# I/O\n",
    "\n",
    "## File I/O\n",
    "\n",
    "Similar to fopen() in *C*, `open() close() read() write() seek()` are supported, not only these function calls, `readline() readlines()` are also supported.\n",
    "File object can be treated as a iterator, may be it is more common.\n",
    "\n",
    "`print()` function can write to file with `file=` option. `open(), close(), readline(), print()` will be most commonly used function for text I/O.\n",
    "\n",
    "`readline()` function returns the 1 line data include `\\n`, and returns '' (0 length string) for EOF (End Of File)."
   ]
  },
  {
   "cell_type": "code",
   "execution_count": null,
   "metadata": {
    "collapsed": true
   },
   "outputs": [],
   "source": [
    "fd = open('README.md', 'r')\n",
    "print(fd.readline(), end='')   # \\n is included in input string\n",
    "\n",
    "for s in fd:      # file descriptor can be used as iterable\n",
    "    print(s.split())  # convert string to List"
   ]
  },
  {
   "cell_type": "markdown",
   "metadata": {},
   "source": [
    "## Data conversion\n",
    "\n",
    "int() function convert string or float to integer, str() convert to string, float() convert to float.\n",
    "map(func, iterable-object) apply function to iterable-object and returns iterable object."
   ]
  },
  {
   "cell_type": "code",
   "execution_count": null,
   "metadata": {
    "collapsed": true
   },
   "outputs": [],
   "source": [
    "s = '100'\n",
    "print(int(s)+1)\n",
    "\n",
    "s = '1 2 3'\n",
    "for i in map(int, s.split()):\n",
    "    print(i)"
   ]
  },
  {
   "cell_type": "code",
   "execution_count": null,
   "metadata": {
    "collapsed": true
   },
   "outputs": [],
   "source": [
    "s = '1 2 3 4'\n",
    "x = list(map(int, s.split()))\n",
    "print(x)\n",
    "\n",
    "y = list()\n",
    "for i in s.split():  # ['1', '2', '3', '4']\n",
    "    y.append(int(i))\n",
    "    \n",
    "print(y)"
   ]
  },
  {
   "cell_type": "markdown",
   "metadata": {},
   "source": [
    "## Standard In, Standard Out and Standard Error\n",
    "\n",
    "sys.stdin, sys.stdout and sys.stderr are file descriptors which are already opened for application programs.\n",
    "stardard in is assinged to keyboard, standard out and standard error are assinged to display as a default. These assigned can be overrided when executing the program from shell.\n",
    "\n",
    "```\n",
    "$ program_name <input_file\n",
    "$ program_name >output_file\n",
    "$ program_name <input_file >output_file\n",
    "$ program_name 2>error_file\n",
    "```"
   ]
  },
  {
   "cell_type": "code",
   "execution_count": null,
   "metadata": {
    "collapsed": true
   },
   "outputs": [],
   "source": [
    "# need to import sys module to use standard I/O file descriptor\n",
    "import sys\n",
    "print('input somthing: ')\n",
    "\n",
    "# jupyter does not handle stdin ?\n",
    "# sys.stdin is used as a file-descriptor\n",
    "s = sys.stdin.readline()\n",
    "print(s.split())   # convert input to List"
   ]
  }
 ],
 "metadata": {
  "kernelspec": {
   "display_name": "Python 3",
   "language": "python",
   "name": "python3"
  },
  "language_info": {
   "codemirror_mode": {
    "name": "ipython",
    "version": 3
   },
   "file_extension": ".py",
   "mimetype": "text/x-python",
   "name": "python",
   "nbconvert_exporter": "python",
   "pygments_lexer": "ipython3",
   "version": "3.6.2"
  }
 },
 "nbformat": 4,
 "nbformat_minor": 2
}
