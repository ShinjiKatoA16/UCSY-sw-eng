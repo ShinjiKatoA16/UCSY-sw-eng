{
 "cells": [
  {
   "cell_type": "markdown",
   "metadata": {},
   "source": [
    "# Quiz and Hands On 1\n",
    "\n",
    "## Quiz\n",
    "\n",
    "Please answer the value and its type of objects. If the object is *Function*, answer \"Function\". If Error is expected answer answer why."
   ]
  },
  {
   "cell_type": "code",
   "execution_count": null,
   "metadata": {
    "collapsed": true
   },
   "outputs": [],
   "source": [
    "def show_val_type(obj):\n",
    "\n",
    "    if callable(obj):\n",
    "        print('Function')\n",
    "        return\n",
    "    \n",
    "    print(obj, type(obj))\n",
    "    return\n",
    "\n",
    "def dummy_func():\n",
    "    pass\n",
    "\n",
    "def x2(val):\n",
    "    return val * 2\n",
    "\n",
    "def add2(a, b):\n",
    "    val = a + b\n",
    "    return val"
   ]
  },
  {
   "cell_type": "code",
   "execution_count": null,
   "metadata": {},
   "outputs": [],
   "source": [
    "# Exercise\n",
    "\n",
    "show_val_type(1)\n",
    "show_val_type(3.14)\n",
    "show_val_type('123'*2)"
   ]
  },
  {
   "cell_type": "code",
   "execution_count": null,
   "metadata": {},
   "outputs": [],
   "source": [
    "# Please think before execution 1\n",
    "show_val_type(4/2)\n",
    "show_val_type(5//2)\n",
    "show_val_type(dummy_func)\n",
    "show_val_type(dummy_func())\n",
    "print()\n",
    "\n",
    "show_val_type(x2(10))\n",
    "show_val_type(x2('abc'))\n",
    "show_val_type(add2(10, 20))\n",
    "show_val_type(add2('abc', 'xyz'))\n",
    "show_val_type(add2(0.5, 1))\n",
    "show_val_type(add2('1', 1))"
   ]
  },
  {
   "cell_type": "code",
   "execution_count": null,
   "metadata": {},
   "outputs": [],
   "source": [
    "# Please think before execution 2\n",
    "show_val_type(show_val_type)\n",
    "show_val_type(int(3.14))\n",
    "show_val_type(str(2**10))\n",
    "show_val_type(str(2**10)[3])\n",
    "show_val_type(str(2**10)[1:3])\n",
    "show_val_type(str(2**10)[4])"
   ]
  },
  {
   "cell_type": "code",
   "execution_count": null,
   "metadata": {
    "collapsed": true
   },
   "outputs": [],
   "source": [
    "# Please think before execution 3\n",
    "s = 'abcdefghij'\n",
    "show_val_type(s.capitalize())\n",
    "show_val_type(s.capitalize)\n",
    "f = s.capitalize\n",
    "f()\n",
    "show_val_type(s.upper())\n",
    "show_val_type(s[:5])\n",
    "show_val_type(s[5:])\n",
    "show_val_type(s[-5:-1])"
   ]
  },
  {
   "cell_type": "code",
   "execution_count": null,
   "metadata": {},
   "outputs": [],
   "source": [
    "# Please think before execution 4\n",
    "s = '123 456 78'\n",
    "show_val_type(s)\n",
    "show_val_type(s[2])\n",
    "show_val_type(int(s[5:8]))  # tricky, verify the behavior of int()\n",
    "x = s.split()\n",
    "show_val_type(x)\n",
    "show_val_type(x[1])\n",
    "show_val_type(int(x[0]*3))\n",
    "show_val_type(x[-1] + 1)"
   ]
  },
  {
   "cell_type": "markdown",
   "metadata": {},
   "source": [
    "## Hands on\n",
    "\n",
    "Please create some objects and check their value and type. As for the method of String, ```help(str)``` in the interactive shell will show the summary."
   ]
  },
  {
   "cell_type": "code",
   "execution_count": null,
   "metadata": {
    "collapsed": true
   },
   "outputs": [],
   "source": [
    "help(str)"
   ]
  },
  {
   "cell_type": "code",
   "execution_count": null,
   "metadata": {},
   "outputs": [],
   "source": [
    "# IPythn is good at auto-completion, type \"show\" and Tab key will expand to \"show_val_type\"\n",
    "t = (1,2,3)\n",
    "u = ['a', 45, 1.234, t]\n",
    "w = {'tupple': t, 'list': u, 1: 3.14, 3.14: 2**8, 256: '2**8'}\n",
    "\n",
    "# operators for SET are  & | - ^  < <=  > >=\n",
    "set1 = {2, 3, 5, 7}\n",
    "set2 = {5, 7, 11,13, 17, 19}\n",
    "\n",
    "show_val_type(w[3.14])\n",
    "show_val_type(set1 ^ set2)\n",
    "show_val_type(set1 | set2 > set2)\n",
    "u[2] = 'replaced'\n",
    "show_val_type (w['list'])"
   ]
  }
 ],
 "metadata": {
  "kernelspec": {
   "display_name": "Python 3",
   "language": "python",
   "name": "python3"
  },
  "language_info": {
   "codemirror_mode": {
    "name": "ipython",
    "version": 3
   },
   "file_extension": ".py",
   "mimetype": "text/x-python",
   "name": "python",
   "nbconvert_exporter": "python",
   "pygments_lexer": "ipython3",
   "version": "3.6.2"
  }
 },
 "nbformat": 4,
 "nbformat_minor": 2
}
