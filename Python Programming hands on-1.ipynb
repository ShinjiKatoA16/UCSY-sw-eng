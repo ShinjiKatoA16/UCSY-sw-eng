{
 "cells": [
  {
   "cell_type": "markdown",
   "metadata": {},
   "source": [
    "# Programming hands on\n",
    "\n",
    "習うより慣れろ！(narau yori narero)  more practice, less learning;  practice makes perfect.\n",
    "\n",
    "## a + b\n",
    "\n",
    "input: each line contains 2 integer\n",
    "output: print sum of the 2 integer\n",
    "\n",
    "input: input_ab.txt, output: standard out\n",
    "\n",
    "```\n",
    "sample input:\n",
    "1 1\n",
    "100 150\n",
    "123 321\n",
    "11112222 22223333\n",
    "\n",
    "sample output:\n",
    "2\n",
    "250\n",
    "444\n",
    "33335555\n",
    "```"
   ]
  },
  {
   "cell_type": "code",
   "execution_count": null,
   "metadata": {
    "collapsed": true
   },
   "outputs": [],
   "source": [
    "# write answer"
   ]
  },
  {
   "cell_type": "markdown",
   "metadata": {},
   "source": [
    "## a+b modified (1)\n",
    "\n",
    "Add grand total at the end of line.\n",
    "\n",
    "input: input_ab.txt, output: standard out\n",
    "\n",
    "```\n",
    "sample input:\n",
    "1 1\n",
    "100 150\n",
    "123 321\n",
    "11112222 22223333\n",
    "\n",
    "sample output:\n",
    "2\n",
    "250\n",
    "444\n",
    "33335555\n",
    "33336251\n",
    "```"
   ]
  },
  {
   "cell_type": "code",
   "execution_count": null,
   "metadata": {
    "collapsed": true
   },
   "outputs": [],
   "source": []
  },
  {
   "cell_type": "markdown",
   "metadata": {},
   "source": [
    "## a+b modified (2)\n",
    "\n",
    "input: each line contains 1 or more integer\n",
    "output: print sum of the input, and grand total\n",
    "\n",
    "input: inputab3.txt, output: standard out\n",
    "\n",
    "```\n",
    "sample input:\n",
    "1\n",
    "1 2 3\n",
    "123 321\n",
    "10 9 8 7 6 5 4 3 2 1\n",
    "\n",
    "sample output:\n",
    "1\n",
    "6\n",
    "444\n",
    "55\n",
    "506\n",
    "```"
   ]
  },
  {
   "cell_type": "code",
   "execution_count": null,
   "metadata": {
    "collapsed": true
   },
   "outputs": [],
   "source": []
  },
  {
   "cell_type": "markdown",
   "metadata": {},
   "source": [
    "## Prime numbers (1)\n",
    "\n",
    "print all prime numbers below 100 (2 3 5 7 .... 97)  (hint: Sieve of Eratosthenes)"
   ]
  },
  {
   "cell_type": "code",
   "execution_count": null,
   "metadata": {},
   "outputs": [],
   "source": [
    "#!/usr/bin/python3\n",
    "# -*- coding: utf-8 -*-\n",
    "\n",
    "'''\n",
    "find prime numbers up to MAX_NUMBER\n",
    "sieve of Eratosthenes\n",
    "'''\n",
    "\n",
    "\n",
    "MAX_NUMBER = 100\n",
    "\n",
    "prime = [True for i in range(MAX_NUMBER+1)]\n",
    "prime[0] = False   # 0 is not prime\n",
    "prime[1] = False   # 1 is not prime\n",
    "\n",
    "sqrt_max = int(MAX_NUMBER ** 0.5)  # check up to root(MAX_NUMBER)\n",
    "\n",
    "for i in range(2, sqrt_max + 1):\n",
    "    if prime[i]:\n",
    "        for n in range(i+i, MAX_NUMBER+1, i):\n",
    "            prime[n] = False\n",
    "\n",
    "num_prime = 0\n",
    "for i in range(MAX_NUMBER):\n",
    "    if prime[i]:\n",
    "        num_prime += 1\n",
    "        print(i, end=' ')\n",
    "# print(num_prime, 'prime number found under', MAX_NUMBER)\n"
   ]
  },
  {
   "cell_type": "markdown",
   "metadata": {},
   "source": [
    "## Prime number (2)\n",
    "\n",
    "write a function, which takes 1 parameter (n), and returns n-th prime number.\n",
    "\n",
    "example: n=1 output=2, n=2 output=3, n=3 output=5, n=5 output=11"
   ]
  },
  {
   "cell_type": "code",
   "execution_count": null,
   "metadata": {
    "collapsed": true
   },
   "outputs": [],
   "source": [
    "#!/usr/bin/python3\n",
    "# -*- coding: utf-8 -*-\n",
    "\n",
    "'''\n",
    "find N-th prime number\n",
    "'''\n",
    "\n",
    "prime = [2, 3]\n",
    "\n",
    "def is_prime(candidate):\n",
    "    sqrt_c = int(candidate ** 0.5)\n",
    "\n",
    "    for p in prime:\n",
    "        if p > sqrt_c:\n",
    "            return True\n",
    "        if candidate % p == 0:\n",
    "            return False    # Not Prime number\n",
    "    return True\n",
    "\n",
    "def nth_prime(n):\n",
    "    if not isinstance(n, int):\n",
    "        raise TypeError\n",
    "    if n < 1:\n",
    "        raise ValueError\n",
    "    prime_list_len = len(prime)\n",
    "    if n <= prime_list_len:\n",
    "#        print('Prime List cache hit', prime_list_len)\n",
    "        return prime[n-1]\n",
    "\n",
    "    candidate = prime[-1]\n",
    "    while prime_list_len < n:\n",
    "        candidate += 2\n",
    "        if is_prime(candidate):\n",
    "            prime.append(candidate)\n",
    "            prime_list_len += 1\n",
    "\n",
    "    return prime[-1]"
   ]
  },
  {
   "cell_type": "code",
   "execution_count": null,
   "metadata": {},
   "outputs": [],
   "source": [
    "print(nth_prime(5))\n",
    "print(nth_prime(100))\n",
    "print(nth_prime(25))"
   ]
  }
 ],
 "metadata": {
  "kernelspec": {
   "display_name": "Python 3",
   "language": "python",
   "name": "python3"
  },
  "language_info": {
   "codemirror_mode": {
    "name": "ipython",
    "version": 3
   },
   "file_extension": ".py",
   "mimetype": "text/x-python",
   "name": "python",
   "nbconvert_exporter": "python",
   "pygments_lexer": "ipython3",
   "version": "3.6.2"
  }
 },
 "nbformat": 4,
 "nbformat_minor": 2
}
