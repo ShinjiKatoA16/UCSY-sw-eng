{
 "cells": [
  {
   "cell_type": "markdown",
   "metadata": {},
   "source": [
    "# How to write markdown (.md)\n",
    "\n",
    "**Markdown** is a lightweight markup language with plain text formatting syntax. <https://en.wikipedia.org/wiki/Markdown>"
   ]
  },
  {
   "cell_type": "markdown",
   "metadata": {},
   "source": [
    "## Header\n",
    "\n",
    "Header line is used to specify chapter etc. 1 **#** shows top level header, 2 **##** shows next level and so on.\n",
    "\n",
    "# Top level header\n",
    "\n",
    "## 2ne level header\n",
    "\n",
    "### 3rd level\n",
    "\n",
    "#### 4th\n",
    "\n",
    "##### 5th...."
   ]
  },
  {
   "cell_type": "markdown",
   "metadata": {},
   "source": [
    "## Emphasize and italic\n",
    "\n",
    "In order to **emphasize** some __words__, quatate the words with __**__ or **__**.\n",
    "\n",
    "If the words are enclosed with single ```*``` or ```_```, it will become *italic*."
   ]
  },
  {
   "cell_type": "markdown",
   "metadata": {},
   "source": [
    "## Code and code block\n",
    "\n",
    "If the words are enclosed with **back ticks (\\`)**, it will treated as a code (command). In order to imbed several lines of code, Triple back tiks are used. Formmatting of markdown is not performed in the code or code blocks. For example `**this is not emphasized**`.\n",
    "\n",
    "```\n",
    "# Python Hello world program\n",
    "print('Hello world')\n",
    "```\n"
   ]
  },
  {
   "cell_type": "markdown",
   "metadata": {},
   "source": [
    "## List\n",
    "\n",
    "- Unordered list can be written with either **-**, **+** or __*__.\n",
    "\n",
    "    * this is a sample of unnumbered list line 1\n",
    "    * line 2\n",
    "    * line 3\n",
    "    \n",
    "- Ordered List can be written iwth **1.** ... which is automatically renumbered so only **1.** is enough.\n",
    "\n",
    "    1. Blank like is required before and after List\n",
    "    1. Space is required after list header character(s)\n",
    "    \n",
    "- HTML `<dl>` tag can be used as well\n",
    "\n",
    "<dl>\n",
    "   <dt> Apple </dt>\n",
    "   <dd>    Red </dd>\n",
    "   <dt> Banana </dt>\n",
    "   <dd>    Yellow </dd>\n",
    "   <dt> Cherry </dt>\n",
    "   <dd>    Orange or Red </dd>\n",
    "</dl>"
   ]
  },
  {
   "cell_type": "markdown",
   "metadata": {},
   "source": [
    "## Blockquates\n",
    "\n",
    "In order to display quated(copied) contents, ```>``` can be used.\n",
    "\n",
    "> John Gruber created the Markdown language in 2004 in collaboration with Aaron Swartz on the syntax,[3][4]\n",
    "> with the goal of enabling people \"to write using an easy-to-read, easy-to-write plain text format,\n",
    "> and optionally convert it to structurally valid XHTML (or HTML)\".[5]\n",
    "\n",
    "> (From wikipedia)"
   ]
  },
  {
   "cell_type": "markdown",
   "metadata": {},
   "source": [
    "## URL Link\n",
    "\n",
    "URL link can be written with either `[site name](URL)` or `<URL>`.\n",
    "For example.\n",
    "\n",
    "- [Google](https://www.google.com)\n",
    "- <https://github.com>"
   ]
  },
  {
   "cell_type": "markdown",
   "metadata": {},
   "source": [
    "## Image\n",
    "\n",
    "Image file such as JPG or PNG can be embedded with `![description](URL)`.\n",
    "For example\n",
    "\n",
    "![png file](testpic.svg)"
   ]
  },
  {
   "cell_type": "markdown",
   "metadata": {
    "collapsed": true
   },
   "source": [
    "## Mathematical formula\n",
    "\n",
    "$\\LaTeX$ (LaTex) mathematical rendering is supported in jupyter notebook.\n",
    "\n",
    "There are several ways to do this\n",
    "\n",
    "- Enclose with `$` to imbed formula in the text line. $\\sqrt{x^2+y^2}$ is a distance from (0,0) to (x,y)\n",
    "\n",
    "$$ (\\int^{b}_{a} f(x) dx = \\lim_{n \\to \\infty} \\sum^{n-1}_{i=0} f(x_{i}) \\Delta x $$\n",
    "\n",
    "\\begin{align}\n",
    "\\sqrt{a+b}\n",
    "\\end{align}\n",
    "\n",
    "\\begin{equation}\n",
    "H← ​​​60 ​+​ \\frac{​​30(B−R)​​}{Vmax−Vmin}  ​​, if V​max​​ = G\n",
    "\\end{equation}\n"
   ]
  },
  {
   "cell_type": "markdown",
   "metadata": {},
   "source": [
    "## Graph\n",
    "\n",
    "There are several ways to draw graph in jupyter notebook. Matplotlib is one of them."
   ]
  },
  {
   "cell_type": "code",
   "execution_count": null,
   "metadata": {},
   "outputs": [],
   "source": [
    "%matplotlib inline\n",
    "import matplotlib.pyplot as plt\n",
    "import numpy as np\n",
    "import math\n",
    "\n",
    "x = np.linspace(0, math.pi*2, 100)\n",
    "y = np.sin(x)\n",
    "plt.plot(x, y)"
   ]
  }
 ],
 "metadata": {
  "kernelspec": {
   "display_name": "Python 3",
   "language": "python",
   "name": "python3"
  },
  "language_info": {
   "codemirror_mode": {
    "name": "ipython",
    "version": 3
   },
   "file_extension": ".py",
   "mimetype": "text/x-python",
   "name": "python",
   "nbconvert_exporter": "python",
   "pygments_lexer": "ipython3",
   "version": "3.6.2"
  }
 },
 "nbformat": 4,
 "nbformat_minor": 2
}
