{
 "cells": [
  {
   "cell_type": "code",
   "execution_count": null,
   "metadata": {
    "collapsed": true
   },
   "outputs": [],
   "source": [
    "%autosave 0"
   ]
  },
  {
   "cell_type": "markdown",
   "metadata": {},
   "source": [
    "# Dictionary and Set\n",
    "\n",
    "Dictionary and set are also container type data. They can contain any data type, including other continaer type objects.\n",
    "\n",
    "## Dictionary\n",
    "\n",
    "dictionary[*key*] = *value* will create or update the value in the dictionary."
   ]
  },
  {
   "cell_type": "code",
   "execution_count": null,
   "metadata": {
    "collapsed": true
   },
   "outputs": [],
   "source": [
    "x = dict()  # Create empty dictionary\n",
    "x[0] = 'abc'  # Create\n",
    "x[0] = 'xyz'  # update\n",
    "print(x[0])\n",
    "print(x[1])  # No item... error"
   ]
  },
  {
   "cell_type": "code",
   "execution_count": null,
   "metadata": {
    "collapsed": true
   },
   "outputs": [],
   "source": [
    "# Dicationary which value is List\n",
    "# Disctionary is enclosed with brace {}\n",
    "\n",
    "x = {'a': ['apple', 'anaconda'], 'b': ['beatles', 'beethoven']}\n",
    "x['b'].append('beegees')\n",
    "print(x)"
   ]
  },
  {
   "cell_type": "code",
   "execution_count": null,
   "metadata": {
    "collapsed": true
   },
   "outputs": [],
   "source": [
    "# MCPC rehearsal problem 1\n",
    "\n",
    "s1 = \"Living John Piano\"\n",
    "s2 = \"Bath Alice Toothbrush\"\n",
    "\n",
    "who_what_dict = dict()    # Key Where, Value (Who, What)\n",
    "x = s1.split()\n",
    "who_what_dict[x[0]] = x[1:]\n",
    "x = s2.split()\n",
    "who_what_dict[x[0]] = x[1:]\n",
    "\n",
    "# What is in Living ?\n",
    "print(who_what_dict['Living'][1])    # [0]: Who, [1]: What"
   ]
  },
  {
   "cell_type": "markdown",
   "metadata": {},
   "source": [
    "## Set\n",
    "\n",
    "Set is like a dictionary without value (only key), or List of unique items.\n",
    "\n",
    "- Elements of *Set* can be accessed as a iterable object (can be used in *for* loop)\n",
    "- Elements of *Set* can not be accessed with *Index*, (same as Dictionary)\n",
    "- String, List, Tuple or other iterable object can be converted to *Set*"
   ]
  },
  {
   "cell_type": "code",
   "execution_count": null,
   "metadata": {
    "collapsed": true
   },
   "outputs": [],
   "source": [
    "list_x = [1, 1, 2, 2, 3, 3, 4]\n",
    "set_x = set(list_x)\n",
    "print(set_x)\n",
    "\n",
    "str_x = 'this is a string'\n",
    "set_x = set(str_x)\n",
    "print(set_x)\n",
    "\n",
    "print(set_x[0])   # error"
   ]
  },
  {
   "cell_type": "markdown",
   "metadata": {},
   "source": [
    "### Operators of Set\n",
    "\n",
    "Product (AND), Union (OR), Exclusive OR (XOR) and Difference are supported as oprators to created evaluated *Set*. Super Set, Sub Set oprators returns Boolean value.\n",
    "\n",
    "- AND:  `&`\n",
    "- OR:   `|`\n",
    "- XOR:  `^`\n",
    "- Difference: `-`\n",
    "- Superset `>`\n",
    "- Subset `<`"
   ]
  },
  {
   "cell_type": "code",
   "execution_count": null,
   "metadata": {
    "collapsed": true
   },
   "outputs": [],
   "source": [
    "set_a = {1, 2, 3, 4}\n",
    "set_b = {3, 4, 5, 6}\n",
    "\n",
    "print(set_a & set_b)\n",
    "print(set_a | set_b)\n",
    "print(set_a ^ set_b)\n",
    "print(set_a - set_b)"
   ]
  },
  {
   "cell_type": "code",
   "execution_count": null,
   "metadata": {
    "collapsed": true
   },
   "outputs": [],
   "source": [
    "set_a = {1, 2, 3, 4}\n",
    "set_b = {3, 4}\n",
    "set_c = {3, 4}\n",
    "\n",
    "print (set_a > set_b)   # is set_a a superset of set_b ?\n",
    "print (set_b > set_a)\n",
    "print (set_b < set_a)\n",
    "print (set_b >= set_c)\n",
    "print (set_b > set_c)"
   ]
  }
 ],
 "metadata": {
  "kernelspec": {
   "display_name": "Python 3",
   "language": "python",
   "name": "python3"
  },
  "language_info": {
   "codemirror_mode": {
    "name": "ipython",
    "version": 3
   },
   "file_extension": ".py",
   "mimetype": "text/x-python",
   "name": "python",
   "nbconvert_exporter": "python",
   "pygments_lexer": "ipython3",
   "version": "3.6.2"
  }
 },
 "nbformat": 4,
 "nbformat_minor": 2
}
