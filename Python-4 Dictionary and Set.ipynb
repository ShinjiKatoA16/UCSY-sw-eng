{
 "cells": [
  {
   "cell_type": "markdown",
   "metadata": {},
   "source": [
    "# Dictionary and Set\n",
    "\n",
    "Dictionary and set are also container type data. They can contain any data type, including other continaer type objects.\n",
    "\n",
    "## Dictionary\n",
    "\n",
    "dictionary[*key*] = *value* will create or update the value in the dictionary."
   ]
  },
  {
   "cell_type": "code",
   "execution_count": null,
   "metadata": {
    "collapsed": true
   },
   "outputs": [],
   "source": [
    "x = dict()  # Create empty dictionary\n",
    "x[0] = 'abc'  # Create\n",
    "x[0] = 'xyz'  # update\n",
    "print(x[0])\n",
    "print(x[1])  # No item... error"
   ]
  },
  {
   "cell_type": "code",
   "execution_count": 3,
   "metadata": {},
   "outputs": [
    {
     "name": "stdout",
     "output_type": "stream",
     "text": [
      "{'a': ['apple', 'anaconda'], 'b': ['beatles', 'beethoven', 'beegees']}\n"
     ]
    }
   ],
   "source": [
    "# Dicationary which value is List\n",
    "# Disctionary is enclosed with brace {}\n",
    "\n",
    "x = {'a': ['apple', 'anaconda'], 'b': ['beatles', 'beethoven']}\n",
    "x['b'].append('beegees')\n",
    "print(x)"
   ]
  },
  {
   "cell_type": "code",
   "execution_count": 4,
   "metadata": {},
   "outputs": [
    {
     "name": "stdout",
     "output_type": "stream",
     "text": [
      "Piano\n"
     ]
    }
   ],
   "source": [
    "# MCPC rehearsal problem 1\n",
    "\n",
    "s1 = \"Living John Piano\"\n",
    "s2 = \"Bath Alice Toothbrush\"\n",
    "\n",
    "who_what_dict = dict()    # Key Where, Value (Who, What)\n",
    "x = s1.split()\n",
    "who_what_dict[x[0]] = x[1:]\n",
    "x = s2.split()\n",
    "who_what_dict[x[0]] = x[1:]\n",
    "\n",
    "# What is in Living ?\n",
    "print(who_what_dict['Living'][1])    # [0]: Who, [1]: What"
   ]
  }
 ],
 "metadata": {
  "kernelspec": {
   "display_name": "Python 3",
   "language": "python",
   "name": "python3"
  },
  "language_info": {
   "codemirror_mode": {
    "name": "ipython",
    "version": 3
   },
   "file_extension": ".py",
   "mimetype": "text/x-python",
   "name": "python",
   "nbconvert_exporter": "python",
   "pygments_lexer": "ipython3",
   "version": "3.6.2"
  }
 },
 "nbformat": 4,
 "nbformat_minor": 2
}
