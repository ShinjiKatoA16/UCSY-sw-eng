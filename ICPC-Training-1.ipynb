{
 "cells": [
  {
   "cell_type": "code",
   "execution_count": null,
   "metadata": {
    "collapsed": true
   },
   "outputs": [],
   "source": [
    "%autosave 0"
   ]
  },
  {
   "cell_type": "markdown",
   "metadata": {},
   "source": [
    "# UCSY Competitive Programming Training Test-1 (21, Feb, 2018)\n",
    "\n",
    "## Problem-A\n",
    "\n",
    "Integer before colon shows number of shift, convert text. If shift is 1, **A** -> **B**, **Z** -> **A**, **b** -> **c**, **2** -> **3**.\n",
    "\n",
    "### Sample Input\n",
    "\n",
    "```\n",
    "0:Plain Text\n",
    "1:Heloo Bob\n",
    "2:My number is 09970693885\n",
    "27:Heloo Bob\n",
    "```\n",
    "\n",
    "### Sample Output\n",
    "\n",
    "```\n",
    "Plain Text\n",
    "Ifmpp Cpc\n",
    "Oa pwodgt ku 21192815007\n",
    "Ifmpp Cpc\n",
    "```"
   ]
  },
  {
   "cell_type": "markdown",
   "metadata": {},
   "source": [
    "### How to solve Problem-A\n",
    "\n",
    "As for text conversion, it's necessary to care of circling such as **z** to **a**. There are several methods to handle this.\n",
    "\n",
    "- Create the string which contains **ABC...XYZABC....Z**\n",
    "- Calculate the (offset(index) of original string + shift) mod sizeof(alphabet or digit)\n",
    "\n",
    "Method-1 is simpler, Method-2 requires less memory and smarter. Method-1 will be better in programming contest, and Method-2 will be better in production code."
   ]
  },
  {
   "cell_type": "code",
   "execution_count": null,
   "metadata": {
    "collapsed": true
   },
   "outputs": [],
   "source": [
    "# Sample code of method 1\n",
    "#!/usr/bin/python3\n",
    "# -*- coding: utf-8 -*-\n",
    "\n",
    "#import sys\n",
    "import string\n",
    "\n",
    "infile = open('a.in', 'r')\n",
    "low_ascii = string.ascii_lowercase * 2\n",
    "high_ascii = string.ascii_uppercase * 2\n",
    "digit = string.digits * 2\n",
    "\n",
    "for s in infile:\n",
    "    if s == '#\\n':\n",
    "        break\n",
    "    shift_s, text = s.split(':')\n",
    "    # print(shift_s, text)\n",
    "    shift_ascii = int(shift_s) % len(string.ascii_lowercase)\n",
    "    shift_digit = int(shift_s) % len(string.digits)\n",
    "    \n",
    "    for ch in text:\n",
    "        if ch in low_ascii:\n",
    "            print(low_ascii[low_ascii.index(ch)+shift_ascii], end='')\n",
    "        elif ch in high_ascii:\n",
    "            print(high_ascii[high_ascii.index(ch)+shift_ascii], end='')\n",
    "        elif ch in digit:\n",
    "            print(digit[digit.index(ch)+shift_digit], end='')\n",
    "        else:\n",
    "            print(ch, end='')\n",
    "\n"
   ]
  },
  {
   "cell_type": "code",
   "execution_count": null,
   "metadata": {
    "collapsed": true
   },
   "outputs": [],
   "source": [
    "# Sample code of method 2\n",
    "#!/usr/bin/python3\n",
    "# -*- coding: utf-8 -*-\n",
    "\n",
    "#import sys\n",
    "import string\n",
    "\n",
    "infile = open('a.in', 'r')\n",
    "low_ascii = string.ascii_lowercase\n",
    "high_ascii = string.ascii_uppercase\n",
    "digit = string.digits\n",
    "\n",
    "for s in infile:\n",
    "    if s == '#\\n':\n",
    "        break\n",
    "    shift_s, text = s.split(':')\n",
    "    shift = int(shift_s)\n",
    "    \n",
    "    for ch in text:\n",
    "        if ch in low_ascii:\n",
    "            print(low_ascii[(low_ascii.index(ch)+shift) % len(low_ascii)], end='')\n",
    "        elif ch in high_ascii:\n",
    "            print(high_ascii[(high_ascii.index(ch)+shift) % len(high_ascii)], end='')\n",
    "        elif ch in digit:\n",
    "            print(digit[(digit.index(ch)+shift) % len(digit)], end='')\n",
    "        else:\n",
    "            print(ch, end='')\n",
    "\n"
   ]
  },
  {
   "cell_type": "markdown",
   "metadata": {},
   "source": [
    "#### Text handling\n",
    "\n",
    "In this problem, input text contains shift + ':' + text. There are several methods to treat it.\n",
    "\n",
    "- Use split() method of string (recommended)\n",
    "- Use index() method of string, and separate string using slice (str[start:end])\n",
    "- Search the location of ':' by checking each character in the string, then use slice"
   ]
  },
  {
   "cell_type": "code",
   "execution_count": null,
   "metadata": {
    "collapsed": true
   },
   "outputs": [],
   "source": [
    "# Method-1\n",
    "\n",
    "s = '111:Text text 123 text'\n",
    "shift, text = s.split(':')\n",
    "print(shift)\n",
    "print(text)"
   ]
  },
  {
   "cell_type": "code",
   "execution_count": null,
   "metadata": {
    "collapsed": true
   },
   "outputs": [],
   "source": [
    "# Method-2\n",
    "\n",
    "s = '111:Text text 123 text'\n",
    "p_col = s.index(':')\n",
    "print(s[:p_col])\n",
    "print(s[p_col+1:])"
   ]
  },
  {
   "cell_type": "code",
   "execution_count": null,
   "metadata": {
    "collapsed": true
   },
   "outputs": [],
   "source": [
    "# Method-3\n",
    "\n",
    "s = '111:Text text 123 text'\n",
    "p_col = 0\n",
    "for ch in s:\n",
    "    if ch == ':':\n",
    "        break\n",
    "    p_col += 1\n",
    "print(s[:p_col])\n",
    "print(s[p_col+1:])"
   ]
  },
  {
   "cell_type": "markdown",
   "metadata": {},
   "source": [
    "#### Text handling, new line character\n",
    "\n",
    "It is necessary to take care of new line('\\n'). readline() method returns text which contains '\\n' (iterable file object also returns this format of data).\n",
    "If new line character is to be removed, strip() method removes space tab and new line before and after the text."
   ]
  },
  {
   "cell_type": "code",
   "execution_count": null,
   "metadata": {
    "collapsed": true
   },
   "outputs": [],
   "source": [
    "s = '   3 space\\t(tab)\\n'\n",
    "print(s.strip())\n",
    "s ='\\t(tab)\\n 2nd line\\n'\n",
    "print(s.strip())\n",
    "s ='\\n\\nNew Line\\n\\n\\n'\n",
    "print(s.strip())"
   ]
  },
  {
   "cell_type": "code",
   "execution_count": null,
   "metadata": {
    "collapsed": true
   },
   "outputs": [],
   "source": [
    "#!/usr/bin/python3\n",
    "# -*- coding: utf-8 -*-\n",
    "\n",
    "#import sys\n",
    "import string\n",
    "\n",
    "infile = open('a.in', 'r')\n",
    "low_ascii = string.ascii_lowercase * 2\n",
    "high_ascii = string.ascii_uppercase * 2\n",
    "digit = string.digits * 2\n",
    "\n",
    "for s in infile:\n",
    "    if s == '#\\n':\n",
    "        break\n",
    "    shift_s, text = s.strip().split(':')  # Remove \\n before split()\n",
    "    # print(shift_s, text)\n",
    "    shift_ascii = int(shift_s) % len(string.ascii_lowercase)\n",
    "    shift_digit = int(shift_s) % len(string.digits)\n",
    "    \n",
    "    for ch in text:\n",
    "        if ch in low_ascii:\n",
    "            print(low_ascii[low_ascii.index(ch)+shift_ascii], end='')\n",
    "        elif ch in high_ascii:\n",
    "            print(high_ascii[high_ascii.index(ch)+shift_ascii], end='')\n",
    "        elif ch in digit:\n",
    "            print(digit[digit.index(ch)+shift_digit], end='')\n",
    "        else:\n",
    "            print(ch, end='')\n",
    "            \n",
    "    print()   # New line for each output"
   ]
  },
  {
   "cell_type": "markdown",
   "metadata": {},
   "source": [
    "## Problem B. Sum of Primes\n",
    "\n",
    "Input: 1st Line: Number of test Case, 2nd and later Even Number, Output: Number of pairs of Prime number which sum is equal to given even number.\n",
    "\n",
    "### Sample Input\n",
    "\n",
    "```\n",
    "3\n",
    "18\n",
    "30\n",
    "22\n",
    "```\n",
    "\n",
    "### Sample Output\n",
    "\n",
    "```\n",
    "2\n",
    "3\n",
    "3\n",
    "```"
   ]
  },
  {
   "cell_type": "code",
   "execution_count": 5,
   "metadata": {},
   "outputs": [
    {
     "name": "stdout",
     "output_type": "stream",
     "text": [
      "2\n",
      "3\n",
      "3\n"
     ]
    }
   ],
   "source": [
    "#!/usr/bin/python3\n",
    "# -*- coding: utf-8 -*-\n",
    "\n",
    "#import sys\n",
    "\n",
    "infile = open('b.in', 'r')\n",
    "n = int(infile.readline())\n",
    "even_num = list()\n",
    "for i in range(n):\n",
    "    num = int(infile.readline())\n",
    "    even_num.append(num)\n",
    "\n",
    "max_prime = max(even_num)\n",
    "\n",
    "# Sieve of Eratosthenes\n",
    "prime_map = [True for i in range(max_prime+1)]\n",
    "prime_map[0] = prime_map[1] = False  # Not Prime\n",
    "\n",
    "prime_list = list()\n",
    "for i in range(2, max_prime+1):\n",
    "    if prime_map[i] == True:\n",
    "        prime_list.append(i)\n",
    "        for mop in range(i*2, max_prime+1, i):\n",
    "            prime_map[mop] = False\n",
    "\n",
    "# print(prime_map) # Debug\n",
    "# print(prime_list) # Debug\n",
    "\n",
    "# print(even_num)\n",
    "for i in even_num:\n",
    "    half = i // 2\n",
    "    num_combi = 0\n",
    "    for p in prime_list:\n",
    "        if p > half:\n",
    "            break\n",
    "        if (i-p) in prime_list:\n",
    "            # print(p, i-p)   # Debug\n",
    "            num_combi += 1\n",
    "\n",
    "    print(num_combi)\n"
   ]
  },
  {
   "cell_type": "markdown",
   "metadata": {},
   "source": [
    "## Problem C. Twin Prime Numbers\n",
    "\n",
    "Print the number of twin prime number in specific range. Twin Prime number: Both P and P+2 are prime number, for example 3 and 5, 11 and 13."
   ]
  },
  {
   "cell_type": "code",
   "execution_count": null,
   "metadata": {
    "collapsed": true
   },
   "outputs": [],
   "source": [
    "#!/usr/bin/python3\n",
    "# -*- coding: utf-8 -*-\n",
    "\n",
    "import sys\n",
    "\n",
    "def twin_prime(min_range, max_range):\n",
    "\n",
    "    prime_map = [True for i in range(max_range+1)]\n",
    "    prime_map[0] = prime_map[1] = False  # Not Prime\n",
    "    \n",
    "    for i in range(2, max_range+1):  # include max_range\n",
    "        if prime_map[i] == True:\n",
    "            for mop in range(i*2, max_range+1, i):\n",
    "                prime_map[mop] = False\n",
    "    \n",
    "    num_twin = 0\n",
    "    for i in range(min_range, max_range-1):  # include max_range\n",
    "        if prime_map[i] and prime_map[i+2]:\n",
    "            print(i, i+2, file=sys.stderr) # Debug\n",
    "            num_twin += 1\n",
    "\n",
    "    print(num_twin)\n",
    "\n",
    "infile = open('c.in', 'r')\n",
    "n = int(infile.readline())\n",
    "for i in range(n):\n",
    "    min_range, max_range = map(int,infile.readline().split())\n",
    "    twin_prime(min_range, max_range)\n"
   ]
  },
  {
   "cell_type": "markdown",
   "metadata": {},
   "source": [
    "# Tips\n",
    "\n",
    "- Use proper variable names (mop: multiple of prime,cleaning equipment to wipe)\n",
    "- Insert debug statement when writing program, then remove. Adding debug statement while debugging is not efficient !!!\n",
    "- Debug in small portion. Do not try to write large program then debug.\n",
    "- Usually stderr can be used to debug output"
   ]
  }
 ],
 "metadata": {
  "kernelspec": {
   "display_name": "Python 3",
   "language": "python",
   "name": "python3"
  },
  "language_info": {
   "codemirror_mode": {
    "name": "ipython",
    "version": 3
   },
   "file_extension": ".py",
   "mimetype": "text/x-python",
   "name": "python",
   "nbconvert_exporter": "python",
   "pygments_lexer": "ipython3",
   "version": "3.6.4"
  }
 },
 "nbformat": 4,
 "nbformat_minor": 2
}
