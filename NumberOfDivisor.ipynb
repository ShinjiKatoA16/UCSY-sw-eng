{
 "cells": [
  {
   "cell_type": "code",
   "execution_count": null,
   "metadata": {},
   "outputs": [],
   "source": [
    "%autosave 0"
   ]
  },
  {
   "cell_type": "markdown",
   "metadata": {},
   "source": [
    "# Divisor\n",
    "\n",
    "## Number of Divisor\n",
    "\n",
    "Write a function which returns the number of divisor (including 1 and itself).\n",
    "\n",
    "Example:\n",
    "\n",
    "- Input: 5,  Output: 2 (1, 5)\n",
    "- Input: 12, Output: 6 (1, 2, 3, 4, 6, 12)\n",
    "- Input: 49, Output: 3 (1, 7, 49)"
   ]
  },
  {
   "cell_type": "code",
   "execution_count": null,
   "metadata": {},
   "outputs": [],
   "source": [
    "# Simple but not efficient answer\n",
    "\n",
    "def num_div0(n):\n",
    "    '''\n",
    "    n: Integer (bigger than 0)\n",
    "    output: Number of Divisor (Including 1 and n)\n",
    "    '''\n",
    "    \n",
    "    count_div = 0\n",
    "    for div in range(1, n+1):   # 1 - n\n",
    "        if n % div == 0:\n",
    "            count_div += 1\n",
    "            \n",
    "    return count_div"
   ]
  },
  {
   "cell_type": "code",
   "execution_count": null,
   "metadata": {},
   "outputs": [],
   "source": [
    "print (5, num_div0(5))\n",
    "print (12, num_div0(12))\n",
    "print (49, num_div0(49))"
   ]
  },
  {
   "cell_type": "code",
   "execution_count": null,
   "metadata": {},
   "outputs": [],
   "source": [
    "# This function is not efficient, so it's difficult to handle big input\n",
    "print (9999999, num_div0(9999999))"
   ]
  },
  {
   "cell_type": "markdown",
   "metadata": {},
   "source": [
    "### How to improve the performance\n",
    "\n",
    "Hint: Prime number checking"
   ]
  },
  {
   "cell_type": "code",
   "execution_count": null,
   "metadata": {},
   "outputs": [],
   "source": [
    "# Faster than version 0\n",
    "\n",
    "def num_div1(n):\n",
    "    '''\n",
    "    n: Integer (bigger than 0)\n",
    "    output: Number of Divisor (Including 1 and n)\n",
    "    '''\n",
    "    \n",
    "    count_div = 0\n",
    "    sqrt_n = (int)(n**0.5)\n",
    "    for div in range(1, sqrt_n+1):   # 1 - n\n",
    "        if n % div == 0:\n",
    "            count_div += 1\n",
    "            if n // div != div:  # quatient != div\n",
    "                count_div += 1\n",
    "            \n",
    "    return count_div"
   ]
  },
  {
   "cell_type": "code",
   "execution_count": null,
   "metadata": {},
   "outputs": [],
   "source": [
    "print (5, num_div1(5))\n",
    "print (12, num_div1(12))\n",
    "print (49, num_div1(49))\n",
    "print (9999999, num_div1(9999999))"
   ]
  },
  {
   "cell_type": "markdown",
   "metadata": {},
   "source": [
    "### Further improvement\n",
    "\n",
    "Every interger can be represented as prime factorized format. $2^{c0}\\cdot 3^{c1}\\cdot 5^{c2} \\cdot 7^{c3} ... (cx >= 0)$\n",
    "In that case, number of divisor is calculated as $(c0+1) \\cdot (c1+1) \\cdot (c2+1) \\cdot (c3+1) ...$\n",
    "Because every divisors are **combination of the prime factor** of input number.\n",
    "\n",
    "Example $12=2^2\\cdot3^1$, Num of Divisor $(2+1)\\cdot(1+1)=6$\n",
    "\n",
    "Divisor: $2^0\\cdot 3^0=1\\\\2^1\\cdot 3^0=2\\\\2^2\\cdot 3^0=4\\\\2^0\\cdot 3^1=3\\\\2^1\\cdot 3^1=6\\\\2^2\\cdot 3^1=12$"
   ]
  },
  {
   "cell_type": "code",
   "execution_count": null,
   "metadata": {},
   "outputs": [],
   "source": []
  }
 ],
 "metadata": {
  "kernelspec": {
   "display_name": "Python 3",
   "language": "python",
   "name": "python3"
  },
  "language_info": {
   "codemirror_mode": {
    "name": "ipython",
    "version": 3
   },
   "file_extension": ".py",
   "mimetype": "text/x-python",
   "name": "python",
   "nbconvert_exporter": "python",
   "pygments_lexer": "ipython3",
   "version": "3.6.5"
  }
 },
 "nbformat": 4,
 "nbformat_minor": 2
}
