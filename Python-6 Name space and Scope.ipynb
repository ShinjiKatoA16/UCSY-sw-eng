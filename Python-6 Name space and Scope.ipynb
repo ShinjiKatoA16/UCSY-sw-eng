{
 "cells": [
  {
   "cell_type": "markdown",
   "metadata": {},
   "source": [
    "# Name space and Scope\n",
    "\n",
    "Each Function has its own Name Space. Variables in main routine are *Global variables* and can be referred from Functions, but **NOT changeable**.\n",
    "Builtin function *locals()* and *globals()* can be used to check the variables in each Name space.\n"
   ]
  },
  {
   "cell_type": "code",
   "execution_count": null,
   "metadata": {},
   "outputs": [],
   "source": [
    "# Function can access(Read) global variable\n",
    "def f():\n",
    "    print('x of f() =', x, id(x))\n",
    "    \n",
    "x = 100\n",
    "f()\n",
    "print('x of main() =', x, id(x))"
   ]
  },
  {
   "cell_type": "code",
   "execution_count": null,
   "metadata": {},
   "outputs": [],
   "source": [
    "# if same variable name is used in Function and value is written before read\n",
    "# another object is created\n",
    "def f():\n",
    "    x = 1\n",
    "    print('x of f() =', x, id(x))\n",
    "    \n",
    "x = 100\n",
    "f()\n",
    "print('x of main() =', x, id(x))"
   ]
  },
  {
   "cell_type": "code",
   "execution_count": null,
   "metadata": {},
   "outputs": [],
   "source": [
    "# if function try to update global variable, it's error\n",
    "def f():\n",
    "    x += 1\n",
    "    print('x of f() =', x, id(x))\n",
    "    \n",
    "x = 100\n",
    "f()\n",
    "print('x of main() =', x, id(x))"
   ]
  }
 ],
 "metadata": {
  "kernelspec": {
   "display_name": "Python 3",
   "language": "python",
   "name": "python3"
  },
  "language_info": {
   "codemirror_mode": {
    "name": "ipython",
    "version": 3
   },
   "file_extension": ".py",
   "mimetype": "text/x-python",
   "name": "python",
   "nbconvert_exporter": "python",
   "pygments_lexer": "ipython3",
   "version": "3.6.2"
  }
 },
 "nbformat": 4,
 "nbformat_minor": 2
}
