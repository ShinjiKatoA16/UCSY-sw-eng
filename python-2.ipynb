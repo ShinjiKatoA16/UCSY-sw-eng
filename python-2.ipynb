{
 "cells": [
  {
   "cell_type": "markdown",
   "metadata": {},
   "source": [
    "# Python 2nd step: Variables and Data type\n",
    "\n",
    "In case of C or other compile langueage, variables need to be declared with data type.\n",
    "In Python, *Object* have data type, variables just refer *Object*. Following sequence is valid in Python."
   ]
  },
  {
   "cell_type": "code",
   "execution_count": null,
   "metadata": {
    "collapsed": true
   },
   "outputs": [],
   "source": [
    "x = 1\n",
    "print('x =', x, type(x))\n",
    "x = 'abc'\n",
    "print('x =', x, type(x))"
   ]
  },
  {
   "cell_type": "markdown",
   "metadata": {},
   "source": [
    "In the following example, the data of the *Object* which x refered did not change but x refered new *Object*."
   ]
  },
  {
   "cell_type": "code",
   "execution_count": null,
   "metadata": {
    "collapsed": true
   },
   "outputs": [],
   "source": [
    "x = 1\n",
    "print('x =', x, 'object id:', id(x))\n",
    "y = x\n",
    "x += 1\n",
    "print('x =', x, 'object id:', id(x))\n",
    "print('y =', y, 'object id:', id(y))"
   ]
  },
  {
   "cell_type": "markdown",
   "metadata": {},
   "source": [
    "## Basic Data type\n",
    "\n",
    "Plese refer [Python3 reference](https://docs.python.org/3/reference/) for detail.\n",
    "\n",
    "- Boolean\n",
    "- Integer\n",
    "- Float\n",
    "- None\n",
    "- String\n",
    "\n",
    "Except above, Python support Complex ( $i: i^2 = -1$ ) as well. ( **j** is used intead of *i* )"
   ]
  },
  {
   "cell_type": "code",
   "execution_count": null,
   "metadata": {
    "collapsed": true
   },
   "outputs": [],
   "source": [
    "def void_vundc():\n",
    "    return None\n",
    "\n",
    "x = void_vundc()\n",
    "print(type(x))"
   ]
  },
  {
   "cell_type": "code",
   "execution_count": null,
   "metadata": {
    "collapsed": true
   },
   "outputs": [],
   "source": [
    "x = 0+1j\n",
    "print(x**2) "
   ]
  },
  {
   "cell_type": "markdown",
   "metadata": {},
   "source": [
    "### Boolean\n",
    "\n",
    "**True** and **False** are reserved word for Boolean value. Not only Boolean but also other type such as Integer,String or List can be used for **True/False** check of **if** and **while**."
   ]
  },
  {
   "cell_type": "code",
   "execution_count": null,
   "metadata": {
    "collapsed": true
   },
   "outputs": [],
   "source": [
    "x = True\n",
    "print(x, type(x))\n",
    "x = False\n",
    "print(x, type(x))\n",
    "x = (1 == 1)\n",
    "print('1==1:', x, type(x))\n",
    "x = (1 > 2)\n",
    "print('1>2:', x, type(x))"
   ]
  },
  {
   "cell_type": "code",
   "execution_count": null,
   "metadata": {
    "collapsed": true
   },
   "outputs": [],
   "source": [
    "# Evaluate this cell before foloowing cell\n",
    "\n",
    "def check_true(b):\n",
    "    if b:\n",
    "         print(b,\"is treated as true\")\n",
    "    else:\n",
    "         print(b,\"is treated as false\")"
   ]
  },
  {
   "cell_type": "code",
   "execution_count": null,
   "metadata": {
    "collapsed": true
   },
   "outputs": [],
   "source": [
    "check_true(0)\n",
    "check_true(1)\n",
    "check_true(0.0)\n",
    "check_true(0.1)\n",
    "check_true(-2)\n",
    "check_true('')\n",
    "check_true(' ')\n",
    "check_true([])\n",
    "check_true([0])"
   ]
  },
  {
   "cell_type": "code",
   "execution_count": null,
   "metadata": {
    "collapsed": true
   },
   "outputs": [],
   "source": [
    "check_true(0)\n",
    "check_true(1)\n",
    "check_true(0.0)\n",
    "check_true(0.1)\n",
    "check_true(-2)\n",
    "check_true('')\n",
    "check_true(' ')\n",
    "check_true([])\n",
    "check_true([0])"
   ]
  },
  {
   "cell_type": "markdown",
   "metadata": {},
   "source": [
    "#### Boolean operators\n",
    "\n",
    "**and,or,not** are the reserved words and used as boolean operators. (same as && || ! of *C*)\n",
    "These are not **bitwise operation** but **logical operation**."
   ]
  },
  {
   "cell_type": "code",
   "execution_count": null,
   "metadata": {
    "collapsed": true
   },
   "outputs": [],
   "source": [
    "print (True and True, True and False, False and True, False and False)\n",
    "print (True or True, True or False, False or True, False or False)\n",
    "print (not True, not False)\n",
    "print(\"\\nBitwise operation: 1('0001'b) & 2('0010'b)\")\n",
    "x = 0b01 & 0b10\n",
    "print(x, type(x))\n",
    "check_true(0b01 & 0b10)\n",
    "print('\\nLogical operation: 1 and 2')\n",
    "x = 0 and 2\n",
    "print(x, type(x))\n",
    "check_true(0b01 and 0b10)\n",
    "print('\\nLogical operation: 1 or 2')\n",
    "check_true(0b01 or 0b10)"
   ]
  },
  {
   "cell_type": "markdown",
   "metadata": {},
   "source": [
    "and operation:\n",
    "1 and 2  -> 1 is evaluated (true)  - 2 is evaluated (true)  -> true\n",
    "0 and 2  -> 0 is evaluated (false) --------------------------> false\n",
    "\n",
    "or operation\n",
    "1 or 2 -> 1 is evaluated (true)  ----------------------------> true\n",
    "0 or 2 -> 0 is evaluated (false)  -> 2 is evaluated (true)  -> true"
   ]
  },
  {
   "cell_type": "markdown",
   "metadata": {},
   "source": [
    "#### Value comparisons\n",
    "Same as *C*. **>, >=, <, <=, ==, !=** can be used to compare 2 objects. The objects do not need to have the same type (some combination such as Integer and String are not allowed).\n",
    "These operator can be used other than numeric value, such as *String*.\n",
    "\n",
    "#### Identity comparisons\n",
    "The operators **is** and **is not** test for object identity: `x is y` is true if and only if x and y are the same object.\n",
    "Object identity is determined using the **id()** function. `x is not y` yields the inverse truth value.\n",
    "**is** operator shall not be used to compare the value of 2 objects. **==** shall be used instead."
   ]
  },
  {
   "cell_type": "code",
   "execution_count": null,
   "metadata": {
    "collapsed": true
   },
   "outputs": [],
   "source": [
    "x = 'abc'\n",
    "y = 'abc'\n",
    "print(\"\\nResult of 'x is y':\", x is y, \"  Result of 'x == y':\", x == y)\n",
    "print('x:', x, 'y:',y, '\\nid(x):', id(x), 'id(y):', id(y))\n",
    "\n",
    "x += 'd'\n",
    "y += 'd'\n",
    "print(\"\\nResult of 'x is y':\", x is y, \"  Result of 'x == y':\", x == y)\n",
    "print('x:', x, 'y:',y, '\\nid(x):', id(x), 'id(y):', id(y))"
   ]
  },
  {
   "cell_type": "markdown",
   "metadata": {},
   "source": [
    "#### Membership test\n",
    "The operators **in** and **not in** test for membership. *x in s* evaluates to true if x is a member of s, and false\n",
    "otherwise. *x not in s* returns the negation of x in s . All built-in sequences and set types support this as well\n",
    "as dictionary. (i.e. String, List, Tupple ... support this)"
   ]
  },
  {
   "cell_type": "code",
   "execution_count": null,
   "metadata": {
    "collapsed": true
   },
   "outputs": [],
   "source": [
    "s = 'abc'  # s is a String\n",
    "print('x' in s)\n",
    "print('b' in s)\n",
    "print('ab' in s)\n",
    "print('ac' in s)\n",
    "print()\n",
    "\n",
    "t = [1, 2, 3, 4, [5,6]]  # t is a List\n",
    "print('number of elements of t:',len(t))\n",
    "print(5 in t)\n",
    "print(5 in t[4])  # t[0]: 1, t[1]: 2, ... t[4]: [5,6]\n",
    "print(3 in t)\n",
    "print()\n",
    "\n",
    "u = ('a', 'b', 3, 0.1)   # u is a Tupple\n",
    "print(0.1 in u)\n",
    "print('c' not in u)"
   ]
  },
  {
   "cell_type": "markdown",
   "metadata": {},
   "source": [
    "### Integer\n",
    "\n",
    "0, 100, -10000, 0b1001, 0o664, 0x01a0 etc. The size of integer is **Unlimited** in Python.\n",
    "(most computer langueage does not support unlimited integer)\n",
    "\n",
    "*int()* function can be used to convert from float or string to integer.\n",
    "Fractional part (digits below 0) of float value is discared when it is converted to integer. "
   ]
  },
  {
   "cell_type": "code",
   "execution_count": null,
   "metadata": {
    "collapsed": true
   },
   "outputs": [],
   "source": [
    "x = 1.9999\n",
    "print('x:', x, 'int(x):', int(x))\n",
    "print()\n",
    "print('2^1000 = ', 2 ** 1000)"
   ]
  },
  {
   "cell_type": "markdown",
   "metadata": {},
   "source": [
    "### Float\n",
    "\n",
    "0.1, 10e3 etc. The result of the operation of integer and float is float. *float()* function can be used to convert from integer or string to float.\n",
    "\n",
    " * 2**n"
   ]
  },
  {
   "cell_type": "markdown",
   "metadata": {},
   "source": [
    "### Numeric operation\n",
    "\n",
    "**+,-,\\*,/,//,%,\\*\\*** are numerical operators of Python. It's almost same as *C*, except devide (/ and //), and power (\\*\\*). / always returns float, // returns integer (which will be converted to float, if one of the argument is float). The behavior of // is similar to *C*, but not same for negative result."
   ]
  },
  {
   "cell_type": "code",
   "execution_count": null,
   "metadata": {
    "collapsed": true
   },
   "outputs": [],
   "source": [
    "x = 3.1415\n",
    "x += 0.1\n",
    "print(x)\n",
    "print(round(x, 6))"
   ]
  },
  {
   "cell_type": "code",
   "execution_count": null,
   "metadata": {
    "collapsed": true
   },
   "outputs": [],
   "source": [
    "x = 1+1\n",
    "print('1+1:', x, type(x))\n",
    "x = 1-3\n",
    "print('1-3:', x, type(x))\n",
    "x = 4/2  # / returns float\n",
    "print('4/2:', x, type(x))\n",
    "x = 5//2 # // returns integer if both of arguments are integer\n",
    "print('5//2:', x, type(x))\n",
    "x = 5//(-2)  # Python returns floor(x) for the result of negative division of //\n",
    "print('5/-2:', x, type(x))\n",
    "x = 5//(-2)\n",
    "print('5//(-2)', x, type(x))\n",
    "x = 5//2.0   # result is converted to float if one of the auguments is float\n",
    "print('5//2.0:', x, type(x))\n",
    "x = 2*8\n",
    "print('2*8:', x, type(x))\n",
    "x = 5%2\n",
    "print('5%2 (Modulo):', x, type(x))\n",
    "x = 2**8\n",
    "print('2**8 (exponents):', x, type(x))\n",
    "x = 2**(1/2)\n",
    "print('2**(1/2) (square root):', x, type(x))"
   ]
  },
  {
   "cell_type": "markdown",
   "metadata": {},
   "source": [
    "### None\n",
    "\n",
    "This type has a single value. There is a single object with this value. This object is accessed through the built-in\n",
    "name **None**. It is used to signify the absence of a value in many situations, e.g., it is returned from functions\n",
    "that doesn't explicitly return anything. Its truth value is false."
   ]
  },
  {
   "cell_type": "code",
   "execution_count": null,
   "metadata": {
    "collapsed": true
   },
   "outputs": [],
   "source": [
    "x = None\n",
    "print(x == True, x == False)    # None is not True or False\n",
    "if x:\n",
    "    print ('None is evaluated as True')\n",
    "else:\n",
    "    print ('None is evaluated as False')\n",
    "\n",
    "def do_nothing():\n",
    "    return\n",
    "\n",
    "y = do_nothing()\n",
    "print('y:', y, 'id(x):', id(x), 'id(y):', id(y))   # Only 1 objext of None exists\n",
    "\n",
    "if y:\n",
    "    print('y is treated as True')\n",
    "else:\n",
    "    print('y is treated as False')\n",
    "    \n",
    "if y == False:\n",
    "    print('y == False')\n",
    "else:\n",
    "    print('y != False')\n",
    "    \n",
    "if y == True:\n",
    "    print('y == True')\n",
    "else:\n",
    "    print('y != True')"
   ]
  },
  {
   "cell_type": "markdown",
   "metadata": {},
   "source": [
    "### String\n",
    "\n",
    "String can be made using single quate (**'**), double quate(**\"**), triple single quate or double quate. str() function converts numeric value to string.  \n",
    "The biggest difference of String between *C* and *Python* is that the String is **immutable**(not changeable) in Python, and String of Python has its own method."
   ]
  },
  {
   "cell_type": "code",
   "execution_count": null,
   "metadata": {
    "collapsed": true
   },
   "outputs": [],
   "source": [
    "x = 'string'\n",
    "print(x, type(x))\n",
    "x = \"it's string too\"\n",
    "print(x, type(x))\n",
    "\n",
    "print('double quatation(\") can be written without escape in single quatation(\\')')\n",
    "# escape sequence \\' and \\\" is also possible\n",
    "x = 'a\\'b\\\"c'\n",
    "for c in x:\n",
    "    print (c, end = ' ')\n",
    "print()\n",
    "\n",
    "x = '''Triple quatation is OK too'''\n",
    "print(x, type(x))\n",
    "# Triple quatation is usually used to make multiple line string\n",
    "x = '''\n",
    "1st line,\n",
    "2nd line,\n",
    "3rd line\n",
    "'''\n",
    "print(x, type(x))"
   ]
  },
  {
   "cell_type": "markdown",
   "metadata": {},
   "source": [
    "#### docstring\n",
    "\n",
    "The first string in the module or function is called docstring. It is **strongly** recommended to write docstring. Indent of the quatation need to be alligned.\n",
    "docstring is shown on help()."
   ]
  },
  {
   "cell_type": "code",
   "execution_count": null,
   "metadata": {
    "collapsed": true
   },
   "outputs": [],
   "source": [
    "#!/usr/bin/python3\n",
    "# -*- coding: utf-8 -*-\n",
    "    \n",
    "'''\n",
    "    This is a module docstring\n",
    "    This program displays number from 1 to 10 horizontally\n",
    "'''\n",
    "    \n",
    "def show_num(first,last):\n",
    "    \"\"\"\n",
    "    first: Start number\n",
    "    last:  End Number - 1\n",
    "    Return: None\n",
    "    \"\"\"\n",
    "    for i in range(first,last):\n",
    "        print (i, end = ' ')\n",
    "    print()\n",
    "\n",
    "# help(module_name)  shows the help of the nodule (python script)\n",
    "help(show_num)"
   ]
  },
  {
   "cell_type": "code",
   "execution_count": null,
   "metadata": {
    "collapsed": true
   },
   "outputs": [],
   "source": [
    "import math\n",
    "\n",
    "# help(math)\n",
    "\n",
    "help(math.cos)"
   ]
  },
  {
   "cell_type": "markdown",
   "metadata": {},
   "source": [
    "#### Concatenation and Repetation\n",
    "\n",
    "**+** operator returns concatenated(merged) string, **\\*** operator returns repeated string."
   ]
  },
  {
   "cell_type": "code",
   "execution_count": null,
   "metadata": {
    "collapsed": true
   },
   "outputs": [],
   "source": [
    "x = 'abc' + 'xyz'\n",
    "print(x, type(x))\n",
    "x = 3 * '123'\n",
    "print(x, type(x))"
   ]
  },
  {
   "cell_type": "markdown",
   "metadata": {},
   "source": [
    "#### Indexed reference and Slice\n",
    "\n",
    "Strings can be indexed (subscripted), with the first character having index 0. There is no separate character type; a character is simply a string of size one:  \n",
    "In addition to indexing, slicing is also supported. While indexing is used to obtain individual characters, slicing allows you to obtain substring:\n",
    "\n",
    "![Slice and Index](sliceindex.svg)"
   ]
  },
  {
   "cell_type": "code",
   "execution_count": null,
   "metadata": {
    "collapsed": true
   },
   "outputs": [],
   "source": [
    "# Index\n",
    "word = 'python'\n",
    "print(word[0], word[1], word[2])\n",
    "print(word[-1], word[-2], word[-6])\n",
    "\n",
    "# Slice\n",
    "print(word[0:2])  # from word[0] 'p' to BEFORE word[2] => 'py'\n",
    "print(word[2:5])  # from word[2] 't' to BEFORE word[5] => 'tho'\n",
    "print(word[:2])   # from word[0] to BEFORE word[2]\n",
    "print(word[2:])   # from word[2] to the end\n",
    "print(word[:])    # all\n",
    "print(word[::2])  # from top to last, step=2\n",
    "\n",
    "for c in word[::-1]:  # from last to top (all string, step: -1)\n",
    "    print(c, end = '')\n",
    "print()\n",
    "\n",
    "print(word[::-1])"
   ]
  },
  {
   "cell_type": "markdown",
   "metadata": {},
   "source": [
    "#### Length\n",
    "\n",
    "The built-in function **len()** returns the length of a string:"
   ]
  },
  {
   "cell_type": "code",
   "execution_count": null,
   "metadata": {
    "collapsed": true
   },
   "outputs": [],
   "source": [
    "x = 'abc'\n",
    "print(x, '\\nlen(x):', len(x))\n",
    "x = 'Hello world! ' * 10\n",
    "print(x, '\\nlen(x):', len(x))"
   ]
  },
  {
   "cell_type": "markdown",
   "metadata": {},
   "source": [
    "#### Method\n",
    "\n",
    "String has many method. See <https://docs.python.org/3.5/library/stdtypes.html#string-methods> for detail. (this document is in NFS directory. library.pdf)\n",
    "\n",
    "help(str) shows overview."
   ]
  },
  {
   "cell_type": "code",
   "execution_count": null,
   "metadata": {
    "collapsed": true
   },
   "outputs": [],
   "source": [
    "s = 'a b c'\n",
    "x = s.split()\n",
    "print(x)"
   ]
  },
  {
   "cell_type": "code",
   "execution_count": null,
   "metadata": {
    "collapsed": true
   },
   "outputs": [],
   "source": [
    "help(str)"
   ]
  },
  {
   "cell_type": "code",
   "execution_count": null,
   "metadata": {
    "collapsed": true
   },
   "outputs": [],
   "source": [
    "s = 'test string'\n",
    "print(s, s.capitalize())\n",
    "print(\"Number of 't' in\", s, s.count('t'))\n",
    "print(\"Location of 'str' in\", s, s.find('str'))\n",
    "print(\"Location of 'stx' in\", s, s.find('stx'))\n",
    "print(s, 'islower ?', s.islower())\n",
    "print('Convert to upper case:', s.upper())\n",
    "x = s.split()\n",
    "print('Spit to List:', x, type(x))\n",
    "\n",
    "print(\"{0} + {1} = {2}\".format(2, 3, 2+3))  # {0}: first parameter ..."
   ]
  },
  {
   "cell_type": "code",
   "execution_count": null,
   "metadata": {
    "collapsed": true
   },
   "outputs": [],
   "source": [
    "# Hands on\n",
    "# find some methods in the documnent and try"
   ]
  }
 ],
 "metadata": {
  "kernelspec": {
   "display_name": "Python 3",
   "language": "python",
   "name": "python3"
  },
  "language_info": {
   "codemirror_mode": {
    "name": "ipython",
    "version": 3
   },
   "file_extension": ".py",
   "mimetype": "text/x-python",
   "name": "python",
   "nbconvert_exporter": "python",
   "pygments_lexer": "ipython3",
   "version": "3.6.2"
  }
 },
 "nbformat": 4,
 "nbformat_minor": 2
}
