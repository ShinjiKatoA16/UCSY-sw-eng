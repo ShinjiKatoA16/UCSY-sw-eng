{
 "cells": [
  {
   "cell_type": "markdown",
   "metadata": {},
   "source": [
    "# Exclusive OR\n",
    "\n",
    "Following symbol are used to explain **Exclusive OR** in logic, or mathematics.\n",
    "\n",
    "$A{\\veebar}B \\\\ A{\\oplus}B$\n",
    "\n",
    "## logical operation\n",
    "\n",
    "| A | B | $A{\\oplus}B$ |\n",
    "|---|---|---|\n",
    "| F | F | F |\n",
    "| F | T | T |\n",
    "| T | F | T |\n",
    "| T | T | F |\n",
    "\n",
    "$X \\oplus False(0) = X \\\\ X \\oplus True(1) = \\lnot X$\n",
    "\n",
    "## Commutative low, Associative low\n",
    "\n",
    "Like **Addition** or **Multiplication**, commulative low and associative low can be applied to XOR.\n",
    "\n",
    "### Commutative low\n",
    "$A \\oplus B = B \\oplus A$\n",
    "\n",
    "### Assciative low\n",
    "$A \\oplus (B \\oplus C) = (A \\oplus B) \\oplus C$\n",
    "\n",
    "| A | B | C | $A{\\oplus}(B{\\oplus}C)$ | $(A{\\oplus}B){\\oplus}C$ |\n",
    "|---|---|---|---|---|\n",
    "| F | F | F | F | F |\n",
    "| F | F | T | T | T |\n",
    "| F | T | F | T | T |\n",
    "| F | T | T | F | F |\n",
    "| T | F | F | T | T |\n",
    "| T | F | T | F | F |\n",
    "| T | T | F | F | F |\n",
    "| T | T | T | T | T |"
   ]
  },
  {
   "cell_type": "code",
   "execution_count": null,
   "metadata": {
    "collapsed": true
   },
   "outputs": [],
   "source": [
    "# In Python, XOR operator is ^\n",
    "for a in (False, True):\n",
    "    for b in (False,True):\n",
    "        for c in (False, True):\n",
    "            # print (a, b, c, a^(b^c), (a^b)^c)\n",
    "            print (\"{!r:5} {!r:5} {!r:5} | {!r:5} {!r:5}\".format(a, b, c, a^(b^c), (a^b)^c))"
   ]
  },
  {
   "cell_type": "markdown",
   "metadata": {},
   "source": [
    "### Find general rule from specific case\n",
    "\n",
    "- What will be returned for 1 True $\\oplus$ 100 False\n",
    "- What will be returned for 2 True $\\oplus$ 100 False\n",
    "- What will be returned for 3 True $\\oplus$ 100 False\n",
    "- What will be returned for 101 True $\\oplus$ 10000 False\n",
    "\n",
    "What is the general rule ?"
   ]
  },
  {
   "cell_type": "markdown",
   "metadata": {},
   "source": [
    "### Bit operation\n",
    "\n",
    "When 2 integers are calculated with XOR operator, each bit is calculated separately. (Same as AND, OR, NOT)\n",
    "\n",
    "```\n",
    "10(0b1010) xor 6(0b0110) = 12 (0b1100)\n",
    "10(0b1010) and 6(0b0110) =  2 (0b0010)\n",
    "10(0b1010) or  6(0b0110) = 14 (0b1110)\n",
    "NOT 10(0b1010)           = 5  (0b0101)\n",
    "\n",
    "\n",
    "0b1010    0b1010    0b1010    0b1010\n",
    "0b0110    0b0110    0b0110\n",
    "-(XOR)-   -(AND)-   -(OR)-    -(NOT)-\n",
    "0b1100    0b0010    0b1110    0b0101\n",
    "```"
   ]
  },
  {
   "cell_type": "code",
   "execution_count": null,
   "metadata": {
    "collapsed": true
   },
   "outputs": [],
   "source": [
    "# CONSTANT is not supported in Python, Upper case variable is typically used as Constant\n",
    "\n",
    "INT10 = 0b1010\n",
    "INT06 = 0b0110\n",
    "REV_MASK = 0b1111\n",
    "\n",
    "print('INT10:', INT10, 'INT06:', INT06)\n",
    "print('Bit XOR:', INT10^INT06)\n",
    "print('Bit AND:', INT10&INT06)\n",
    "print('Bit OR: ', INT10|INT06)\n",
    "print('Bit NOT', INT10, ':', (~INT10)&0x0f)\n",
    "print('Reverse INT10:', INT10^REV_MASK)\n",
    "print('Reverse INT06:', INT06^REV_MASK)"
   ]
  },
  {
   "cell_type": "markdown",
   "metadata": {},
   "source": [
    "### XOR usage\n",
    "\n",
    "- Bit reverse (ex. 32bit integer, remain upper 16bit, reverse lower 16bit)\n",
    "- CPU register 0 clear (Often used in assemblar): $X \\oplus X = 0$\n",
    "- Encryption ($Original \\oplus Key = Encrypted \\rightarrow Encrypted \\oplus Key = Original$)\n",
    "- Parity (RAID5 etc, N HDD with (N-1) Capacity, If one of the HDD is broken, its data can be recovered from other data)\n",
    "\n",
    "#### XOR parity\n",
    "\n",
    "- $A \\oplus A = 0$\n",
    "- $A \\oplus B = 0 \\rightarrow A = B$\n",
    "- $A \\oplus B = C \\rightarrow A \\oplus B \\oplus C = 0 \\rightarrow A = B \\oplus C$\n",
    "- $A \\oplus B \\oplus C \\oplus ... Z = 0 \\rightarrow X =$ XOR of other DATA"
   ]
  },
  {
   "cell_type": "code",
   "execution_count": null,
   "metadata": {
    "collapsed": true
   },
   "outputs": [],
   "source": [
    "# XOR data recovery test, Create parity from 3 random data, Recover any data from other data and parity\n",
    "\n",
    "import random\n",
    "\n",
    "data = [random.randrange(1000000) for i in range(3)]\n",
    "print(data)\n",
    "\n",
    "parity = 0\n",
    "for x in data:\n",
    "    parity ^= x\n",
    "\n",
    "print('XOR of all data is:', parity)\n",
    "print('DATA[0]:', data[1]^data[2]^parity)\n",
    "print('DATA[1]:', data[0]^data[2]^parity)\n",
    "print('DATA[2]:', data[0]^data[1]^parity)\n",
    "print('Parity: ', data[0]^data[1]^data[2])\n",
    "print('XOR of all data + Parity:', data[0]^data[1]^data[2]^parity)"
   ]
  },
  {
   "cell_type": "markdown",
   "metadata": {},
   "source": [
    "### XOR parity recalculation\n",
    "\n",
    "1. Initialization: XOR of every data\n",
    "2. Update:\n",
    "   - Calculate $OldData \\oplus NewData = Diff$\n",
    "   - $NewParity=OldParity \\oplus Diff$"
   ]
  },
  {
   "cell_type": "code",
   "execution_count": null,
   "metadata": {},
   "outputs": [],
   "source": [
    "import random\n",
    "\n",
    "data = [random.randrange(1000000) for i in range(5)]\n",
    "print(data)\n",
    "\n",
    "# Initialize Parity\n",
    "parity = 0\n",
    "for x in data:\n",
    "    parity ^= x\n",
    "    \n",
    "# Update data[2]\n",
    "olddata = data[2]\n",
    "newdata = random.randrange(1000000)\n",
    "print('data[2] is updated from:', olddata, 'to', newdata)\n",
    "data[2] = newdata\n",
    "diff = olddata ^ newdata\n",
    "\n",
    "# Calc new parity\n",
    "newparity = parity ^ diff\n",
    "print('old parity:', parity)\n",
    "parity = newparity\n",
    "print('new parity:', parity)\n",
    "\n",
    "# Check if parity is correct\n",
    "chk_parity = 0\n",
    "for x in data:\n",
    "    chk_parity ^= x\n",
    "\n",
    "print('updated parity:', chk_parity)\n"
   ]
  }
 ],
 "metadata": {
  "kernelspec": {
   "display_name": "Python 3",
   "language": "python",
   "name": "python3"
  },
  "language_info": {
   "codemirror_mode": {
    "name": "ipython",
    "version": 3
   },
   "file_extension": ".py",
   "mimetype": "text/x-python",
   "name": "python",
   "nbconvert_exporter": "python",
   "pygments_lexer": "ipython3",
   "version": "3.6.2"
  }
 },
 "nbformat": 4,
 "nbformat_minor": 2
}
