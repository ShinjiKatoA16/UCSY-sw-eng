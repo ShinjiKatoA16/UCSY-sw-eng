{
 "cells": [
  {
   "cell_type": "markdown",
   "metadata": {},
   "source": [
    "# Tips of print()\n",
    "\n",
    "In order to print more than 1 data in 1 print() function, following method are possible.\n",
    "\n",
    "- sep=xxx and end=xxx option\n",
    "- format method of string object"
   ]
  },
  {
   "cell_type": "code",
   "execution_count": null,
   "metadata": {},
   "outputs": [],
   "source": [
    "# print hh:mm:ss\n",
    "\n",
    "hh = 1\n",
    "mm = 2\n",
    "ss = 3\n",
    "\n",
    "# simple\n",
    "print(hh,':',mm,':',ss, sep='')\n",
    "\n",
    "# smarter\n",
    "print(hh,mm,ss, sep=':')\n",
    "\n",
    "# format method\n",
    "print('{}:{}:{}'.format(hh,mm,ss))\n",
    "\n",
    "# format method length=2 leading-0\n",
    "print('{:02}:{:02}:{:02}'.format(hh,mm,ss))"
   ]
  },
  {
   "cell_type": "code",
   "execution_count": null,
   "metadata": {},
   "outputs": [],
   "source": [
    "# Print colxrow=col*row\n",
    "col = 2\n",
    "row = 3\n",
    "\n",
    "# it's possible to specify the parameter\n",
    "print('{1}x{0}={2:2}'.format(row, col, row*col))"
   ]
  },
  {
   "cell_type": "markdown",
   "metadata": {},
   "source": [
    "## I/O overhead\n",
    "\n",
    "I/O system call is slow, and can be a bottle neck if print() function is called many time. "
   ]
  },
  {
   "cell_type": "code",
   "execution_count": 15,
   "metadata": {},
   "outputs": [],
   "source": [
    "# Prepare 10000 random data\n",
    "\n",
    "import random\n",
    "rand_data = [random.randrange(1000) for i in range(10000)]"
   ]
  },
  {
   "cell_type": "code",
   "execution_count": 6,
   "metadata": {},
   "outputs": [],
   "source": [
    "# print 1 by 1\n",
    "\n",
    "def pr1(data):\n",
    "    outfile = open('/dev/null', 'w')\n",
    "    for x in data:\n",
    "        print(x, file=outfile)\n",
    "    outfile.close()"
   ]
  },
  {
   "cell_type": "code",
   "execution_count": 18,
   "metadata": {},
   "outputs": [],
   "source": [
    "# print all in 1 print() function\n",
    "\n",
    "def pr2(data):\n",
    "    outfile = open('/dev/null', 'w')\n",
    "    print('\\n'.join(map(str,data)), file=outfile)\n",
    "    print(file=outfile)  # for last new-line\n",
    "    outfile.close()"
   ]
  },
  {
   "cell_type": "code",
   "execution_count": 16,
   "metadata": {},
   "outputs": [
    {
     "name": "stdout",
     "output_type": "stream",
     "text": [
      "30.9 ms ± 175 µs per loop (mean ± std. dev. of 7 runs, 10 loops each)\n"
     ]
    }
   ],
   "source": [
    "# measure execution time\n",
    "\n",
    "%timeit pr1(rand_data)"
   ]
  },
  {
   "cell_type": "code",
   "execution_count": 19,
   "metadata": {},
   "outputs": [
    {
     "name": "stdout",
     "output_type": "stream",
     "text": [
      "6.17 ms ± 41 µs per loop (mean ± std. dev. of 7 runs, 100 loops each)\n"
     ]
    }
   ],
   "source": [
    "%timeit pr2(rand_data)"
   ]
  },
  {
   "cell_type": "markdown",
   "metadata": {},
   "source": [
    "## Printing multiple element with separator in 1 line\n",
    "\n",
    "join() method of string object is a good choice. It takes iterable object of **string** as a parameter."
   ]
  },
  {
   "cell_type": "code",
   "execution_count": 22,
   "metadata": {},
   "outputs": [
    {
     "name": "stdout",
     "output_type": "stream",
     "text": [
      "abc,123,xyz\n",
      "1 2 3 4 5 6 7 8 9 10\n"
     ]
    }
   ],
   "source": [
    "# use comma as a separator, last element does not have tailing comma\n",
    "\n",
    "print(','.join(('abc', '123', 'xyz')))  # 1 tuple argument\n",
    "\n",
    "# print 1-10 without trailing space\n",
    "\n",
    "print(' '.join(map(str, range(1,11))))"
   ]
  },
  {
   "cell_type": "code",
   "execution_count": null,
   "metadata": {},
   "outputs": [],
   "source": []
  }
 ],
 "metadata": {
  "kernelspec": {
   "display_name": "Python 3",
   "language": "python",
   "name": "python3"
  },
  "language_info": {
   "codemirror_mode": {
    "name": "ipython",
    "version": 3
   },
   "file_extension": ".py",
   "mimetype": "text/x-python",
   "name": "python",
   "nbconvert_exporter": "python",
   "pygments_lexer": "ipython3",
   "version": "3.6.5"
  }
 },
 "nbformat": 4,
 "nbformat_minor": 2
}
