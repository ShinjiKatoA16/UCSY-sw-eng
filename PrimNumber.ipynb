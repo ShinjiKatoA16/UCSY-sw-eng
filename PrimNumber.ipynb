{
 "cells": [
  {
   "cell_type": "code",
   "execution_count": null,
   "metadata": {
    "collapsed": true
   },
   "outputs": [],
   "source": [
    "%autosave 0"
   ]
  },
  {
   "cell_type": "markdown",
   "metadata": {},
   "source": [
    "## Prime number checking (is_prime() function)\n",
    "\n",
    "The definition of **Prime Number** is that it can be divided only 1 and itself. (see is_prime_simple() function below.\n",
    "But in order to check if the number $N$ is prime or not, it's not necessary to check up to $N-1$, but the prime number equal or less of $\\sqrt{N}$, because if N is a product of $A$ and $B$, one of the divisor is equal or less than $\\sqrt{N}$.\n",
    "\n",
    "- Definition-1: Prime number is a integer bigger than 1 and can be divided only by 1 and itself\n",
    "- Definition-2: Composite Number is a integer bigger than 1, and not Prime number (i.e. has more than 1 divisor except 1 and itself)\n",
    "- Definition-3: Prime Number is not Composit number\n",
    "- Definition-4: Composite Number can be factorized. If a number is a composite number, it is a product of smaller Prime numbers.\n",
    "- Definition-5: Every integer bigger than 1 is either Prime or Composite number\n",
    "\n",
    "\n",
    "- Premise-1: Composite Number $N$ has a divisor equal or less than $\\sqrt{N}$\n",
    "- Conclusion: If $N$ does not have divisor eqaul or less than $\\sqrt{N}$, it's not Composite Number -> $N$ is Prime number\n",
    "\n",
    "\n",
    "- Premise-2: If $N$ has divisor of composite number $A$, divisor of $A$ is divisor of $N$. ( $N = A \\cdot B, A= X \\cdot Y \\rightarrow N=X \\cdot Y \\cdot B$ )\n",
    "- From Definition-4 and Premise-2, we can conclude that it's necessary to check only prime number as a condidate of divisor \n",
    "\n",
    "Proof of Premise-1:\n",
    "\n",
    "If N is a **Composite Number (Non-Prime-Number)** and product of positive integer(bigger than 1) A and B, and if A is smaller or equal to B, then A is smaller or equal to $\\sqrt{N}$\n",
    "$$(N = A \\cdot B) \\\\ (1 \\lt A \\le B \\lt N) \\rightarrow (A \\le \\sqrt{N})$$\n",
    "\n",
    "If $A$ is bigger than $\\sqrt{N}$, then $A \\cdot B \\gt N$. Let's assume that $$A = \\sqrt{N} + a \\\\ B = \\sqrt{N} + b \\\\ 0 \\lt a \\le b$$\n",
    "Then $$A \\cdot B \\\\ = (\\sqrt{N} + a)(\\sqrt{N} + b) \\\\ = (\\sqrt{N}^2 + (a+b)\\sqrt{N} + a \\cdot b) \\gt N$$"
   ]
  },
  {
   "cell_type": "code",
   "execution_count": null,
   "metadata": {
    "collapsed": true
   },
   "outputs": [],
   "source": [
    "def is_prime_simple(n):\n",
    "    if n < 2: return False\n",
    "    for div in range(2,n):\n",
    "        if n % div == 0:\n",
    "            return False  # not Prime\n",
    "    return True\n",
    "\n",
    "BIG_PRIME = 10**8 + 7\n",
    "print(2, is_prime_simple(2))\n",
    "print(97, is_prime_simple(97))\n",
    "print(BIG_PRIME, is_prime_simple(BIG_PRIME))"
   ]
  },
  {
   "cell_type": "code",
   "execution_count": null,
   "metadata": {},
   "outputs": [],
   "source": [
    "def is_prime_efficient(n):\n",
    "    if n < 2: return False\n",
    "    sqrt_n = int(n**0.5)\n",
    "    for div in range(2,sqrt_n+1):\n",
    "        if n % div == 0:\n",
    "            print('Divisor=', div, end=' ')\n",
    "            return False  # not Prime\n",
    "    return True\n",
    "\n",
    "BIG_PRIME = 10**8 + 7\n",
    "print(2, is_prime_efficient(2))\n",
    "print(49, is_prime_efficient(49))\n",
    "print(97, is_prime_efficient(97))\n",
    "print(BIG_PRIME, is_prime_efficient(BIG_PRIME))"
   ]
  },
  {
   "cell_type": "markdown",
   "metadata": {},
   "source": [
    "## Verification\n",
    "\n",
    "Following test code shows that the log(divisor-of-N, base-N) does not exceed 0.5 (Square Root)"
   ]
  },
  {
   "cell_type": "code",
   "execution_count": null,
   "metadata": {},
   "outputs": [],
   "source": [
    "#!/usr/bin/python3\n",
    "# -*- coding: utf-8 -*-\n",
    "\n",
    "import sys\n",
    "import math\n",
    "\n",
    "MIN_NUM = 2\n",
    "MAX_NUM = 100\n",
    "\n",
    "def is_prime_simple(n):\n",
    "    for i in range(2, n):  # 2 to n-1\n",
    "        if n % i == 0:\n",
    "            print(n, 'is devided by', i, 'log(i,base-n)', math.log(i,n))\n",
    "            return False\n",
    "    return True\n",
    "\n",
    "for i in range(MIN_NUM, MAX_NUM+1):\n",
    "    if is_prime_simple(i):\n",
    "        print(i, 'is prime number')\n"
   ]
  },
  {
   "cell_type": "markdown",
   "metadata": {},
   "source": [
    "## Prime numbers (1)\n",
    "\n",
    "print all prime numbers below 100 (2 3 5 7 .... 97)  (hint: Sieve of Eratosthenes)\n"
   ]
  },
  {
   "cell_type": "code",
   "execution_count": null,
   "metadata": {
    "collapsed": true
   },
   "outputs": [],
   "source": [
    "#!/usr/bin/python3\n",
    "# -*- coding: utf-8 -*-\n",
    "\n",
    "'''\n",
    "find prime numbers up to MAX_NUMBER\n",
    "sieve of Eratosthenes\n",
    "'''\n",
    "\n",
    "\n",
    "MAX_NUMBER = 100\n",
    "\n",
    "prime = [True for i in range(MAX_NUMBER+1)]\n",
    "prime[0] = False   # 0 is not prime\n",
    "prime[1] = False   # 1 is not prime\n",
    "\n",
    "sqrt_max = int(MAX_NUMBER ** 0.5)  # check up to root(MAX_NUMBER)\n",
    "\n",
    "for i in range(2, sqrt_max + 1):\n",
    "    if prime[i]:\n",
    "        for n in range(i+i, MAX_NUMBER+1, i):\n",
    "            # Mark the multiples of the prime to False in the table\n",
    "            prime[n] = False\n",
    "\n",
    "num_prime = 0\n",
    "for i in range(MAX_NUMBER):\n",
    "    if prime[i]:\n",
    "        num_prime += 1\n",
    "        print(i, end=' ')\n",
    "# print(num_prime, 'prime number found under', MAX_NUMBER)\n"
   ]
  },
  {
   "cell_type": "markdown",
   "metadata": {},
   "source": [
    "## Prime number (2)\n",
    "\n",
    "write a function, which takes 1 parameter (n), and returns n-th prime number.\n",
    "\n",
    "example: n=1 output=2, n=2 output=3, n=3 output=5, n=5 output=11\n",
    "\n",
    "\n",
    "\n",
    "nth_prime(10)"
   ]
  },
  {
   "cell_type": "code",
   "execution_count": null,
   "metadata": {
    "collapsed": true
   },
   "outputs": [],
   "source": [
    "#!/usr/bin/python3\n",
    "# -*- coding: utf-8 -*-\n",
    "\n",
    "'''\n",
    "find N-th prime number\n",
    "'''\n",
    "\n",
    "prime = [2, 3]\n",
    "\n",
    "def is_prime(candidate):\n",
    "    sqrt_c = int(candidate ** 0.5)\n",
    "\n",
    "    for p in prime:\n",
    "        if p > sqrt_c:\n",
    "            return True\n",
    "        if candidate % p == 0:\n",
    "            return False    # Not Prime number\n",
    "    return True\n",
    "\n",
    "def nth_prime(n):\n",
    "    if not isinstance(n, int):\n",
    "        raise TypeError\n",
    "    if n < 1:\n",
    "        raise ValueError\n",
    "    prime_list_len = len(prime)\n",
    "    if n <= prime_list_len:\n",
    "        print('Prime List cache hit', prime_list_len)\n",
    "        return prime[n-1]\n",
    "\n",
    "    candidate = prime[-1]\n",
    "    while prime_list_len < n:\n",
    "        candidate += 2\n",
    "        if is_prime(candidate):\n",
    "             candidate += 2 prime.append(candidate)\n",
    "            prime_list_len += 1\n",
    "\n",
    "    return prime[-1]"
   ]
  },
  {
   "cell_type": "code",
   "execution_count": null,
   "metadata": {
    "collapsed": true
   },
   "outputs": [],
   "source": [
    "print(nth_prime(5))\n",
    "print(nth_prime(100))\n",
    "print(nth_prime(25))"
   ]
  }
 ],
 "metadata": {
  "kernelspec": {
   "display_name": "Python 3",
   "language": "python",
   "name": "python3"
  },
  "language_info": {
   "codemirror_mode": {
    "name": "ipython",
    "version": 3
   },
   "file_extension": ".py",
   "mimetype": "text/x-python",
   "name": "python",
   "nbconvert_exporter": "python",
   "pygments_lexer": "ipython3",
   "version": "3.6.4"
  }
 },
 "nbformat": 4,
 "nbformat_minor": 2
}
