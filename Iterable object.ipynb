{
 "cells": [
  {
   "cell_type": "markdown",
   "metadata": {},
   "source": [
    "# Iteration, Iterable, Iterator and Generator\n",
    "\n",
    "The object that is returned from range() function can be converted to a list, but actually, it just returns value one by one. range(1000000) does not preserve memory space for 1000000 integers.  \n",
    "Any time you use a loop, explicit or implicit, to go over a group of items, that is *iteration*.\n",
    "\n",
    "*Iterable* is an object that you can get an *Iterator* from. In other word, *Iterable* is an object that has an `__iter__` method which returns *Iterator*. *iter()* function calls `__iter__` method.  \n",
    "\n",
    "*Iterator* is an object with a `__next__` method. *next()* function calls `__next__` method.  \n",
    "\n",
    "The object such as String or List is an *Iterable*, but not *Iterator*, which can not return element to *next()*."
   ]
  },
  {
   "cell_type": "code",
   "execution_count": null,
   "metadata": {},
   "outputs": [],
   "source": [
    "# iterable objecct retuns iterator to iter() function\n",
    "\n",
    "s = 'abc'\n",
    "itr = iter(s)\n",
    "\n",
    "print(next(itr))\n",
    "print(next(itr))\n",
    "print(next(itr))"
   ]
  },
  {
   "cell_type": "code",
   "execution_count": null,
   "metadata": {},
   "outputs": [],
   "source": [
    "## __iter__() function and __next__() function can be called directly as well\n",
    "\n",
    "x = s.__iter__()\n",
    "print(x.__next__())\n",
    "print(next(x))"
   ]
  },
  {
   "cell_type": "code",
   "execution_count": null,
   "metadata": {},
   "outputs": [],
   "source": [
    "# StopIteration signal is raised after all items are retrieved\n",
    "\n",
    "print(next(itr))"
   ]
  },
  {
   "cell_type": "code",
   "execution_count": null,
   "metadata": {},
   "outputs": [],
   "source": [
    "# STRING is a iterable, but not iterator. It does not support __next__ method\n",
    "\n",
    "next(s)"
   ]
  },
  {
   "cell_type": "markdown",
   "metadata": {},
   "source": [
    "## Creating iterable object\n",
    "\n",
    "*Iterable* object can be defined using class."
   ]
  },
  {
   "cell_type": "code",
   "execution_count": null,
   "metadata": {},
   "outputs": [],
   "source": [
    "class Reverse:\n",
    "    \"\"\"Iterator for looping over a sequence backwards.\"\"\"\n",
    "    def __init__(self, data):\n",
    "        self.data = data\n",
    "        self.index = len(data)\n",
    "\n",
    "    def __iter__(self):\n",
    "        return self\n",
    "\n",
    "    def __next__(self):\n",
    "        if self.index == 0:\n",
    "            raise StopIteration\n",
    "        self.index = self.index - 1\n",
    "        return self.data[self.index]\n",
    "\n",
    "rev = Reverse('UCSY')\n",
    "for c in rev:\n",
    "    print(c)\n",
    "    \n",
    "print('---')\n",
    "    \n",
    "rev = Reverse([100, 200, 300])\n",
    "for c in rev:\n",
    "    print(c)"
   ]
  },
  {
   "cell_type": "markdown",
   "metadata": {},
   "source": [
    "## Generator\n",
    "\n",
    "Generators are a simple and powerful tool for creating iterators. They are written like regular functions but use the *yield* statement whenever they want to return data. Each time next() is called on it, the generator resumes where it left off (it remembers all the data values and which statement was last executed)."
   ]
  },
  {
   "cell_type": "code",
   "execution_count": null,
   "metadata": {},
   "outputs": [],
   "source": [
    "def rev_gen(data):\n",
    "#    for index in range(len(data)-1, -1, -1):\n",
    "#        yield data[index]\n",
    "    for elem in data[::-1]:\n",
    "        yield elem\n",
    "\n",
    "rev = rev_gen('ucsy')\n",
    "for c in rev:\n",
    "    print(c)"
   ]
  },
  {
   "cell_type": "code",
   "execution_count": null,
   "metadata": {},
   "outputs": [],
   "source": [
    "type(rev)"
   ]
  },
  {
   "cell_type": "code",
   "execution_count": null,
   "metadata": {},
   "outputs": [],
   "source": []
  }
 ],
 "metadata": {
  "kernelspec": {
   "display_name": "Python 3",
   "language": "python",
   "name": "python3"
  },
  "language_info": {
   "codemirror_mode": {
    "name": "ipython",
    "version": 3
   },
   "file_extension": ".py",
   "mimetype": "text/x-python",
   "name": "python",
   "nbconvert_exporter": "python",
   "pygments_lexer": "ipython3",
   "version": "3.6.5"
  }
 },
 "nbformat": 4,
 "nbformat_minor": 2
}
