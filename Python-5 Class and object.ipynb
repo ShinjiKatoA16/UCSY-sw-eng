{
 "cells": [
  {
   "cell_type": "markdown",
   "metadata": {},
   "source": [
    "# Class and Object(Instance)\n",
    "\n",
    "Every objects includeing Integer or String are member(Instance) of Class. The behavior of the objects are identified by their Class. For example, *+* operator returns sum of numeric value (Integer of Float), also returns  concatenated string if operands are string.  \n",
    "Class may have **methods**. As we saw before, String and List have many methods. **Methods** are functions that related to their Class.  \n",
    "Pythons's Class support *Inheritance*, when you make your own class, you can specify its perant class.\n",
    "\n",
    "In a comparison of C++, the Class of Python is not so strict. Private data/method are not supported (but Mangling is possible by attaching **__** before variable name). Data(attribute) which is not defined in Class can be added.\n"
   ]
  },
  {
   "cell_type": "markdown",
   "metadata": {},
   "source": [
    "## Class as a Data container\n",
    "\n",
    "One of the usage of the class is a data container. Class instance can have attributes (variables). This usage is similar to **struct** of C/C++."
   ]
  },
  {
   "cell_type": "code",
   "execution_count": null,
   "metadata": {},
   "outputs": [],
   "source": [
    "# empty class for data container\n",
    "class Test_case():\n",
    "    pass\n",
    "\n",
    "def distance(tc):\n",
    "    '''\n",
    "    tc: test_case instance\n",
    "    return distance from (0,0) to (tc.x, tc,y)\n",
    "    '''\n",
    "    return (tc.x**2 + tc.y**2) ** (0.5)\n",
    "    \n",
    "    \n",
    "tc1 = Test_case()  # create new instance\n",
    "tc1.x = 100\n",
    "tc1.y = 200\n",
    "\n",
    "tc2 = Test_case()\n",
    "tc2.x = 10\n",
    "tc2.y = 30\n",
    "\n",
    "print(\"tc1:\", distance(tc1))\n",
    "print(\"tc2:\", distance(tc2))"
   ]
  },
  {
   "cell_type": "markdown",
   "metadata": {},
   "source": [
    "## Class variables and Instance variables\n",
    "\n",
    "Each instance of the class can have its unique attributes (variables), as for above example, x and y are different value in tc1 and tc2.\n",
    "Class can have variables that belong to class (every instance refers same value). In order to use Class variables, use Class_name.variable_name"
   ]
  },
  {
   "cell_type": "markdown",
   "metadata": {},
   "source": [
    "## Object oriented\n",
    "\n",
    "If class is designed properly, Program can be simpler and easier to understand (object oriented).\n",
    "The advantage of object oriented program is that it can bring higher level of abstraction.\n",
    "\n",
    "abstract <-> specific $\\fallingdotseq$ over all <-> detail"
   ]
  },
  {
   "cell_type": "code",
   "execution_count": null,
   "metadata": {},
   "outputs": [],
   "source": [
    "class Beatles():\n",
    "    def __init__(self, name):\n",
    "        self.name = name\n",
    "        self.best_friend = None\n",
    "        \n",
    "    def answer(self):\n",
    "        print('My name is', self.name)\n",
    "        \n",
    "john = Beatles('John Lenon')\n",
    "paul = Beatles('Paul McCartony')\n",
    "george = Beatles('George Harrison')\n",
    "ringo = Beatles('Ringo Starr')\n",
    "\n",
    "print(john.name)\n",
    "john.answer()  # perform answer methon on object john\n",
    "\n",
    "john.best_friend = paul\n",
    "paul.best_friend = george\n",
    "george.best_friend = ringo\n",
    "ringo.best_friend = john\n",
    "\n",
    "print(john.best_friend.name)   # print john's best_friend name\n",
    "print(john.best_friend.best_friend.name)  # john's best_friend = paul;  paul's best_friend name\n",
    "\n",
    "john.best_friend.best_friend.best_friend.answer()"
   ]
  },
  {
   "cell_type": "markdown",
   "metadata": {},
   "source": [
    "### Class usage sample (Binary Tree)\n",
    "\n",
    "![Binary Tree](bintree.png)"
   ]
  },
  {
   "cell_type": "code",
   "execution_count": null,
   "metadata": {
    "collapsed": true
   },
   "outputs": [],
   "source": [
    "# 2017 MMCPC rehearsal problem-D\n",
    "\n",
    "class BinTreeNode():\n",
    "    def __init__(self, val):\n",
    "        self.val = val\n",
    "        self.parent = None\n",
    "        self.left = None\n",
    "        self.right = None\n",
    "\n",
    "    def add_left(self, left):\n",
    "        left.parent = self\n",
    "        self.left = left\n",
    "\n",
    "    def add_right(self, right):\n",
    "        right.parent = self\n",
    "        self.right = right\n",
    "\n",
    "    def add_child(self, child):\n",
    "        if child.val < self.val:\n",
    "            if self.left == None:\n",
    "                self.add_left(child)\n",
    "            else:\n",
    "                self.left.add_child(child)\n",
    "        else:\n",
    "            if self.right == None:\n",
    "                self.add_right(child)\n",
    "            else:\n",
    "                self.right.add_child(child)\n",
    "                \n",
    "                \n",
    "    def print_node(self):\n",
    "        if self.parent: print('Parent:', self.parent.val, end=' ')\n",
    "        if self.left: print('Left:', self.left.val, end = ' ')\n",
    "        if self.right: print('Right', self.right.val, end = ' ')\n",
    "        print('Node val:', self.val)\n",
    "        if self.left: self.left.print_node()\n",
    "        if self.right: self.right.print_node()"
   ]
  },
  {
   "cell_type": "code",
   "execution_count": null,
   "metadata": {},
   "outputs": [],
   "source": [
    "root_node = BinTreeNode(11)\n",
    "\n",
    "for val in (6, 19, 4, 8, 17, 43, 5, 10, 31,49):\n",
    "    node = BinTreeNode(val)\n",
    "    root_node.add_child(node)\n",
    "    \n",
    "root_node.print_node()"
   ]
  }
 ],
 "metadata": {
  "kernelspec": {
   "display_name": "Python 3",
   "language": "python",
   "name": "python3"
  },
  "language_info": {
   "codemirror_mode": {
    "name": "ipython",
    "version": 3
   },
   "file_extension": ".py",
   "mimetype": "text/x-python",
   "name": "python",
   "nbconvert_exporter": "python",
   "pygments_lexer": "ipython3",
   "version": "3.6.2"
  }
 },
 "nbformat": 4,
 "nbformat_minor": 2
}
