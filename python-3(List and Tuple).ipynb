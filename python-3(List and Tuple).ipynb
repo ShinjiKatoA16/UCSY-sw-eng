{
 "cells": [
  {
   "cell_type": "code",
   "execution_count": null,
   "metadata": {
    "collapsed": true
   },
   "outputs": [],
   "source": [
    "%autosave 0"
   ]
  },
  {
   "cell_type": "markdown",
   "metadata": {},
   "source": [
    "# Python 3rd step: List and Tuple\n",
    "\n",
    "List and Tuple are similar classes. Both of them can have any type of objects as elements in it.\n",
    "Most of the operation that can be done in Tuple can be done in List, so I will mainly focus on List hereafter.\n",
    "\n",
    "In order to make List use [] or list() function. In order to make Tuple, use tuple() function or comma + ().\n",
    "Python does not support simple array (without external library). List is used where array is required in other language."
   ]
  },
  {
   "cell_type": "code",
   "execution_count": null,
   "metadata": {
    "collapsed": true
   },
   "outputs": [],
   "source": [
    "# empty list and tuple\n",
    "x = list()\n",
    "print(x)\n",
    "\n",
    "x = tuple()\n",
    "print(x)"
   ]
  },
  {
   "cell_type": "code",
   "execution_count": null,
   "metadata": {
    "collapsed": true
   },
   "outputs": [],
   "source": [
    "# Make a List with elements\n",
    "x = [1, 2, 3]\n",
    "print(x)\n",
    "\n",
    "# List with different data type\n",
    "x = ['a', 1, 'b', 2]\n",
    "print(x)\n",
    "\n",
    "# List of List\n",
    "x = [[1,2,3], [4,5,6]]\n",
    "print(x)"
   ]
  },
  {
   "cell_type": "markdown",
   "metadata": {},
   "source": [
    "## Mutable and Immutable\n",
    "\n",
    "The difference of Tuple and List is that List is **Mutable**(changeable), but Tuple is **Immutable**(Not changeable).\n",
    "\n",
    "When copying list, care must be taken. *list_new = list_old* just refers same object, so modification to one will affect another. In order to avoid that condition, use copy() method or slice."
   ]
  },
  {
   "cell_type": "code",
   "execution_count": null,
   "metadata": {
    "collapsed": true
   },
   "outputs": [],
   "source": [
    "t = (1, 2, 3)\n",
    "t[1] = 5\n",
    "print(t)"
   ]
  },
  {
   "cell_type": "code",
   "execution_count": 4,
   "metadata": {},
   "outputs": [
    {
     "name": "stdout",
     "output_type": "stream",
     "text": [
      "(1, [5], 3)\n"
     ]
    }
   ],
   "source": [
    "t = (1, [2], 3)\n",
    "#print(id(t), id(t[0]), id(t[1]), id(t[2]))\n",
    "#print(id(t[1][0]))\n",
    "t[1][0] = 5\n",
    "print(t)\n",
    "#print(id(t), id(t[0]), id(t[1]), id(t[2]))\n",
    "#print(id(t[1][0]))"
   ]
  },
  {
   "cell_type": "code",
   "execution_count": null,
   "metadata": {
    "collapsed": true
   },
   "outputs": [],
   "source": [
    "x = [1, 2, 3]\n",
    "y = x\n",
    "y[0] = 4\n",
    "print(x)\n",
    "print(id(x), id(y))"
   ]
  },
  {
   "cell_type": "code",
   "execution_count": null,
   "metadata": {
    "collapsed": true
   },
   "outputs": [],
   "source": [
    "x = [1, 2, 3]\n",
    "y = x.copy()  # or y = x[:]\n",
    "y[0] = 4\n",
    "print(x)\n",
    "print(id(x), id(y))"
   ]
  },
  {
   "cell_type": "markdown",
   "metadata": {},
   "source": [
    "## Index and Slice\n",
    "\n",
    "Like String, Tuple and List support Index and Slice."
   ]
  },
  {
   "cell_type": "code",
   "execution_count": null,
   "metadata": {
    "collapsed": true
   },
   "outputs": [],
   "source": [
    "x = [1, 2, 3, 4, 5, 6]\n",
    "print(x[3])\n",
    "print(x[1:4])\n",
    "print(x[-1])\n",
    "print(x[::-1])"
   ]
  },
  {
   "cell_type": "markdown",
   "metadata": {},
   "source": [
    "## Membership test\n",
    "\n",
    "Like String, Tuple and List support **in** and **not in** oprator.  \n",
    "**in** and **not in** returns boolean value **True** or **False**."
   ]
  },
  {
   "cell_type": "code",
   "execution_count": null,
   "metadata": {
    "collapsed": true
   },
   "outputs": [],
   "source": [
    "x = [1, 2, 3, 4, 5, 6]\n",
    "print('3 in x:', 3 in x)\n",
    "print('4 not in x:', 4 not in x)\n",
    "if 7 in x:\n",
    "    print('7 is in list: x')\n",
    "else:\n",
    "    print('7 is not in x')"
   ]
  },
  {
   "cell_type": "code",
   "execution_count": null,
   "metadata": {
    "collapsed": true
   },
   "outputs": [],
   "source": [
    "x = [1, 2, [3,4], 5]\n",
    "print('3 in x:', 3 in x)\n",
    "print('[1,2] in x', [1,2] in x)"
   ]
  },
  {
   "cell_type": "markdown",
   "metadata": {},
   "source": [
    "## Length\n",
    "\n",
    "Like String, len() function returns number of elements in the List"
   ]
  },
  {
   "cell_type": "code",
   "execution_count": null,
   "metadata": {
    "collapsed": true
   },
   "outputs": [],
   "source": [
    "x = [1, 2, 3]\n",
    "print(len(x))\n",
    "\n",
    "for i in range(len(x)):\n",
    "    if i > 0:\n",
    "        print(x[i-1] + x[i])\n",
    "    \n",
    "# List of List\n",
    "x = [[1,2,3], [4,5,6]]\n",
    "print('Number of element of x:', len(x), 'Number of element of x[0]:', len(x[0]))"
   ]
  },
  {
   "cell_type": "markdown",
   "metadata": {},
   "source": [
    "## List Comprehensions\n",
    "\n",
    "List Comprehenstions are often used in order to initialize. Its basic format is as follows. **If** statement is optional.\n",
    "\n",
    "```\n",
    "list_item = [expression  for ... if ...]\n",
    "```\n"
   ]
  },
  {
   "cell_type": "code",
   "execution_count": null,
   "metadata": {
    "collapsed": true
   },
   "outputs": [],
   "source": [
    "x = [i for i in range(5)]\n",
    "print (x)\n",
    "\n",
    "# same result as below\n",
    "y = list()\n",
    "for i in range(5):\n",
    "    y.append(i)\n",
    "print(y)"
   ]
  },
  {
   "cell_type": "code",
   "execution_count": null,
   "metadata": {
    "collapsed": true
   },
   "outputs": [],
   "source": [
    "x = [i**2 for i in range(5) if i != 3]\n",
    "print(x)"
   ]
  },
  {
   "cell_type": "code",
   "execution_count": null,
   "metadata": {
    "collapsed": true
   },
   "outputs": [],
   "source": [
    "def comprehension(n):\n",
    "    return [i for i in range(n)]\n",
    "\n",
    "def append_loop(n):\n",
    "    x = list()\n",
    "    for i in range(n):\n",
    "        x.append(i)\n",
    "    return x\n",
    "\n",
    "print('List comprehension')\n",
    "%timeit comprehension(1000000)\n",
    "print('Append Loop')\n",
    "%timeit append_loop  (1000000)"
   ]
  },
  {
   "cell_type": "markdown",
   "metadata": {},
   "source": [
    "### Hands on\n",
    "\n",
    "Create the list of 100 None using List comprehension"
   ]
  },
  {
   "cell_type": "code",
   "execution_count": null,
   "metadata": {
    "collapsed": true
   },
   "outputs": [],
   "source": [
    "# Change ??? to create list of 100 None\n",
    "\n",
    "x = [??? for ??? in ???]\n",
    "print(x)"
   ]
  },
  {
   "cell_type": "markdown",
   "metadata": {},
   "source": [
    "## Method of List\n",
    "\n",
    "List has many built-in method. help(list) shows how to use them"
   ]
  },
  {
   "cell_type": "code",
   "execution_count": null,
   "metadata": {
    "collapsed": true
   },
   "outputs": [],
   "source": [
    "help(list)"
   ]
  },
  {
   "cell_type": "markdown",
   "metadata": {},
   "source": [
    "## List manipulation\n",
    "\n",
    "### Add item in List\n",
    "\n",
    "append() method is used to add 1 item to end of list. extend() method and *+* operator are used to concatenate 2 lists. insert() method is used to insert at specific offset(position)."
   ]
  },
  {
   "cell_type": "code",
   "execution_count": null,
   "metadata": {
    "collapsed": true
   },
   "outputs": [],
   "source": [
    "x = [1,2]\n",
    "x.append(3)\n",
    "print(x)\n",
    "\n",
    "y = [10,11]\n",
    "x += y\n",
    "print(x)\n",
    "\n",
    "x.extend(y)\n",
    "print(x)\n",
    "\n",
    "x.insert(3, 4)\n",
    "print(x)"
   ]
  },
  {
   "cell_type": "markdown",
   "metadata": {},
   "source": [
    "### Remove item from List\n",
    "\n",
    "pop() method is used to remove itme at specific position and return its value. (default: last element)\n",
    "removed() method is used to removed specific value."
   ]
  },
  {
   "cell_type": "code",
   "execution_count": null,
   "metadata": {
    "collapsed": true
   },
   "outputs": [],
   "source": [
    "x = [1,2,3,1,2,3]\n",
    "val = x.pop()\n",
    "print('x:', x, 'val:', val)\n",
    "\n",
    "val = x.pop(0)   # pop first element\n",
    "print('x:', x, 'val:', val)\n",
    "\n",
    "x.remove(2)\n",
    "print(x)"
   ]
  },
  {
   "cell_type": "markdown",
   "metadata": {},
   "source": [
    "### Stack (LIFO)  and FIFO queue\n",
    "\n",
    "With append() and pop() method, STACK (Last in First Out) and FIFO (First In First Out) queue can be implemented."
   ]
  },
  {
   "cell_type": "code",
   "execution_count": null,
   "metadata": {
    "collapsed": true
   },
   "outputs": [],
   "source": [
    "def push(queue, val):\n",
    "    queue.append(val)\n",
    "    \n",
    "def lifo_pop(queue):\n",
    "    return(queue.pop())\n",
    "\n",
    "def fifo_pop(queue):\n",
    "    return(queue.pop(0))"
   ]
  },
  {
   "cell_type": "code",
   "execution_count": null,
   "metadata": {
    "collapsed": true
   },
   "outputs": [],
   "source": [
    "x = [1,2,3]\n",
    "push(x, 4)\n",
    "print(fifo_pop(x))\n",
    "print(lifo_pop(x))"
   ]
  },
  {
   "cell_type": "code",
   "execution_count": null,
   "metadata": {
    "collapsed": true
   },
   "outputs": [],
   "source": [
    "# Sample of FIFO handling\n",
    "# MCPC Problem-D Car Showroom\n",
    "\n",
    "def set_car(car, room, room_size):\n",
    "    '''\n",
    "        car: String representing Car number\n",
    "        room: showroom (List)\n",
    "        room_size: max length of the room\n",
    "        Return True if car placement is required\n",
    "               False if car is already in the room\n",
    "    '''\n",
    "    if car in room:\n",
    "        room.remove(car)\n",
    "        room.append(car)\n",
    "        return False\n",
    "\n",
    "    if len(room) < room_size:\n",
    "        room.append(car)\n",
    "        return True\n",
    "\n",
    "    # Remove LRU(top of list), and add new car to bottom of list\n",
    "    room.pop(0)\n",
    "    room.append(car)\n",
    "    return True\n",
    "\n",
    "## Main routine\n",
    "\n",
    "showroom = list()\n",
    "\n",
    "for car in (8, 1, 2, 3, 1, 4, 1, 5, 3, 4, 1, 4, 3, 2, 3, 1, 2, 8, 1, 2):\n",
    "    print(set_car(car, showroom, 3), showroom)"
   ]
  },
  {
   "cell_type": "markdown",
   "metadata": {},
   "source": [
    "### 2-Dementional List\n",
    "\n",
    "List can contain another List."
   ]
  },
  {
   "cell_type": "code",
   "execution_count": null,
   "metadata": {
    "collapsed": true
   },
   "outputs": [],
   "source": [
    "# MCPC Rehearsal Problem-A\n",
    "s1 = 'LIVINGROOM SMITH PIANO'\n",
    "s2 = 'BATHROOM JONES TOOTHBRUSH'\n",
    "\n",
    "database = list()\n",
    "\n",
    "database.append(s1.split())  # str.split() returns LIST\n",
    "database.append(s2.split())\n",
    "\n",
    "print(database)\n",
    "\n",
    "# WHAT IS IN THE LIVINGROOM?\n",
    "for record in database:  # for index in range(len(database)) ; record = database[index]\n",
    "    print(record)\n",
    "    if record[0] == 'BATHROOM':\n",
    "        print(record[2])\n",
    "        break\n",
    "else:      \n",
    "    print('UNKNOWN')"
   ]
  }
 ],
 "metadata": {
  "kernelspec": {
   "display_name": "Python 3",
   "language": "python",
   "name": "python3"
  },
  "language_info": {
   "codemirror_mode": {
    "name": "ipython",
    "version": 3
   },
   "file_extension": ".py",
   "mimetype": "text/x-python",
   "name": "python",
   "nbconvert_exporter": "python",
   "pygments_lexer": "ipython3",
   "version": "3.6.2"
  }
 },
 "nbformat": 4,
 "nbformat_minor": 2
}
